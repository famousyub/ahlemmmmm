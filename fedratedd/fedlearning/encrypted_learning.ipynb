{
 "cells": [
  {
   "cell_type": "markdown",
   "id": "0092a796",
   "metadata": {},
   "source": [
    "# Homomorphic Encryption and Federated Learning based Privacy-Preserving: Breast cancer detection Use-Case"
   ]
  },
  {
   "cell_type": "markdown",
   "id": "46ed5aad",
   "metadata": {},
   "source": [
    "## Abstract\n",
    "\n",
    "Medical data is often highly sensitive in terms of data privacy and security concerns. Federated learning, one type of machine learning techniques, has been started to use for the improvement of the privacy and security of medical data. In the federated learning, the training data is distributed across multiple machines, and the\n",
    "learning process is performed in a collaborative manner. There are several privacy attacks on machine learning (ML) models to get the sensitive information by attackers. Therefore, the ML model itself should be protected from the adversarial attack, especially for applications using medical data. One of the solutions for this problem is homomorphic encryption-based model protection from the adversary collaborator. This project proposes a privacy-preserving federated learning algorithm for medical data using homomorphic encryption. The proposed algorithm uses a secure multi-party computation protocol to protect the machine learning model from the adversaries. In this study, the proposed algorithm using a real-world medical dataset is evaluated in terms of the model performance."
   ]
  },
  {
   "cell_type": "code",
   "execution_count": 2,
   "id": "84c7f12f",
   "metadata": {},
   "outputs": [
    {
     "name": "stdout",
     "output_type": "stream",
     "text": [
      "The watermark extension is already loaded. To reload it, use:\n",
      "  %reload_ext watermark\n",
      "Last updated: 2023-06-17T21:36:12.093524+07:00\n",
      "\n",
      "Python implementation: CPython\n",
      "Python version       : 3.10.9\n",
      "IPython version      : 8.10.0\n",
      "\n",
      "Compiler    : GCC 11.2.0\n",
      "OS          : Linux\n",
      "Release     : 5.19.0-45-generic\n",
      "Machine     : x86_64\n",
      "Processor   : x86_64\n",
      "CPU cores   : 12\n",
      "Architecture: 64bit\n",
      "\n"
     ]
    }
   ],
   "source": [
    "%load_ext watermark\n",
    "%watermark"
   ]
  },
  {
   "cell_type": "markdown",
   "id": "5590bb95",
   "metadata": {},
   "source": [
    "Before step into federated learning, lets talk about Logistic Regression - a local training method we use in our federated learning process."
   ]
  },
  {
   "cell_type": "markdown",
   "id": "132c4ab1",
   "metadata": {},
   "source": [
    "## Datasets"
   ]
  },
  {
   "cell_type": "code",
   "execution_count": 22,
   "id": "2be267bb",
   "metadata": {},
   "outputs": [
    {
     "data": {
      "text/html": [
       "<div>\n",
       "<style scoped>\n",
       "    .dataframe tbody tr th:only-of-type {\n",
       "        vertical-align: middle;\n",
       "    }\n",
       "\n",
       "    .dataframe tbody tr th {\n",
       "        vertical-align: top;\n",
       "    }\n",
       "\n",
       "    .dataframe thead th {\n",
       "        text-align: right;\n",
       "    }\n",
       "</style>\n",
       "<table border=\"1\" class=\"dataframe\">\n",
       "  <thead>\n",
       "    <tr style=\"text-align: right;\">\n",
       "      <th></th>\n",
       "      <th>id</th>\n",
       "      <th>fractal_dimension_worst</th>\n",
       "      <th>radius_mean</th>\n",
       "      <th>texture_mean</th>\n",
       "      <th>perimeter_mean</th>\n",
       "      <th>area_mean</th>\n",
       "      <th>smoothness_mean</th>\n",
       "      <th>compactness_mean</th>\n",
       "      <th>concavity_mean</th>\n",
       "      <th>concave points_mean</th>\n",
       "      <th>...</th>\n",
       "      <th>radius_worst</th>\n",
       "      <th>texture_worst</th>\n",
       "      <th>perimeter_worst</th>\n",
       "      <th>area_worst</th>\n",
       "      <th>smoothness_worst</th>\n",
       "      <th>compactness_worst</th>\n",
       "      <th>concavity_worst</th>\n",
       "      <th>concave points_worst</th>\n",
       "      <th>symmetry_worst</th>\n",
       "      <th>diagnosis</th>\n",
       "    </tr>\n",
       "  </thead>\n",
       "  <tbody>\n",
       "    <tr>\n",
       "      <th>0</th>\n",
       "      <td>842302</td>\n",
       "      <td>0.11890</td>\n",
       "      <td>17.99</td>\n",
       "      <td>10.38</td>\n",
       "      <td>122.80</td>\n",
       "      <td>1001.0</td>\n",
       "      <td>0.11840</td>\n",
       "      <td>0.27760</td>\n",
       "      <td>0.3001</td>\n",
       "      <td>0.14710</td>\n",
       "      <td>...</td>\n",
       "      <td>25.38</td>\n",
       "      <td>17.33</td>\n",
       "      <td>184.60</td>\n",
       "      <td>2019.0</td>\n",
       "      <td>0.1622</td>\n",
       "      <td>0.6656</td>\n",
       "      <td>0.7119</td>\n",
       "      <td>0.2654</td>\n",
       "      <td>0.4601</td>\n",
       "      <td>M</td>\n",
       "    </tr>\n",
       "    <tr>\n",
       "      <th>1</th>\n",
       "      <td>842517</td>\n",
       "      <td>0.08902</td>\n",
       "      <td>20.57</td>\n",
       "      <td>17.77</td>\n",
       "      <td>132.90</td>\n",
       "      <td>1326.0</td>\n",
       "      <td>0.08474</td>\n",
       "      <td>0.07864</td>\n",
       "      <td>0.0869</td>\n",
       "      <td>0.07017</td>\n",
       "      <td>...</td>\n",
       "      <td>24.99</td>\n",
       "      <td>23.41</td>\n",
       "      <td>158.80</td>\n",
       "      <td>1956.0</td>\n",
       "      <td>0.1238</td>\n",
       "      <td>0.1866</td>\n",
       "      <td>0.2416</td>\n",
       "      <td>0.1860</td>\n",
       "      <td>0.2750</td>\n",
       "      <td>M</td>\n",
       "    </tr>\n",
       "    <tr>\n",
       "      <th>2</th>\n",
       "      <td>84300903</td>\n",
       "      <td>0.08758</td>\n",
       "      <td>19.69</td>\n",
       "      <td>21.25</td>\n",
       "      <td>130.00</td>\n",
       "      <td>1203.0</td>\n",
       "      <td>0.10960</td>\n",
       "      <td>0.15990</td>\n",
       "      <td>0.1974</td>\n",
       "      <td>0.12790</td>\n",
       "      <td>...</td>\n",
       "      <td>23.57</td>\n",
       "      <td>25.53</td>\n",
       "      <td>152.50</td>\n",
       "      <td>1709.0</td>\n",
       "      <td>0.1444</td>\n",
       "      <td>0.4245</td>\n",
       "      <td>0.4504</td>\n",
       "      <td>0.2430</td>\n",
       "      <td>0.3613</td>\n",
       "      <td>M</td>\n",
       "    </tr>\n",
       "    <tr>\n",
       "      <th>3</th>\n",
       "      <td>84348301</td>\n",
       "      <td>0.17300</td>\n",
       "      <td>11.42</td>\n",
       "      <td>20.38</td>\n",
       "      <td>77.58</td>\n",
       "      <td>386.1</td>\n",
       "      <td>0.14250</td>\n",
       "      <td>0.28390</td>\n",
       "      <td>0.2414</td>\n",
       "      <td>0.10520</td>\n",
       "      <td>...</td>\n",
       "      <td>14.91</td>\n",
       "      <td>26.50</td>\n",
       "      <td>98.87</td>\n",
       "      <td>567.7</td>\n",
       "      <td>0.2098</td>\n",
       "      <td>0.8663</td>\n",
       "      <td>0.6869</td>\n",
       "      <td>0.2575</td>\n",
       "      <td>0.6638</td>\n",
       "      <td>M</td>\n",
       "    </tr>\n",
       "    <tr>\n",
       "      <th>4</th>\n",
       "      <td>84358402</td>\n",
       "      <td>0.07678</td>\n",
       "      <td>20.29</td>\n",
       "      <td>14.34</td>\n",
       "      <td>135.10</td>\n",
       "      <td>1297.0</td>\n",
       "      <td>0.10030</td>\n",
       "      <td>0.13280</td>\n",
       "      <td>0.1980</td>\n",
       "      <td>0.10430</td>\n",
       "      <td>...</td>\n",
       "      <td>22.54</td>\n",
       "      <td>16.67</td>\n",
       "      <td>152.20</td>\n",
       "      <td>1575.0</td>\n",
       "      <td>0.1374</td>\n",
       "      <td>0.2050</td>\n",
       "      <td>0.4000</td>\n",
       "      <td>0.1625</td>\n",
       "      <td>0.2364</td>\n",
       "      <td>M</td>\n",
       "    </tr>\n",
       "  </tbody>\n",
       "</table>\n",
       "<p>5 rows × 32 columns</p>\n",
       "</div>"
      ],
      "text/plain": [
       "         id  fractal_dimension_worst  radius_mean  texture_mean  \\\n",
       "0    842302                  0.11890        17.99         10.38   \n",
       "1    842517                  0.08902        20.57         17.77   \n",
       "2  84300903                  0.08758        19.69         21.25   \n",
       "3  84348301                  0.17300        11.42         20.38   \n",
       "4  84358402                  0.07678        20.29         14.34   \n",
       "\n",
       "   perimeter_mean  area_mean  smoothness_mean  compactness_mean  \\\n",
       "0          122.80     1001.0          0.11840           0.27760   \n",
       "1          132.90     1326.0          0.08474           0.07864   \n",
       "2          130.00     1203.0          0.10960           0.15990   \n",
       "3           77.58      386.1          0.14250           0.28390   \n",
       "4          135.10     1297.0          0.10030           0.13280   \n",
       "\n",
       "   concavity_mean  concave points_mean  ...  radius_worst  texture_worst  \\\n",
       "0          0.3001              0.14710  ...         25.38          17.33   \n",
       "1          0.0869              0.07017  ...         24.99          23.41   \n",
       "2          0.1974              0.12790  ...         23.57          25.53   \n",
       "3          0.2414              0.10520  ...         14.91          26.50   \n",
       "4          0.1980              0.10430  ...         22.54          16.67   \n",
       "\n",
       "   perimeter_worst  area_worst  smoothness_worst  compactness_worst  \\\n",
       "0           184.60      2019.0            0.1622             0.6656   \n",
       "1           158.80      1956.0            0.1238             0.1866   \n",
       "2           152.50      1709.0            0.1444             0.4245   \n",
       "3            98.87       567.7            0.2098             0.8663   \n",
       "4           152.20      1575.0            0.1374             0.2050   \n",
       "\n",
       "   concavity_worst  concave points_worst  symmetry_worst  diagnosis  \n",
       "0           0.7119                0.2654          0.4601          M  \n",
       "1           0.2416                0.1860          0.2750          M  \n",
       "2           0.4504                0.2430          0.3613          M  \n",
       "3           0.6869                0.2575          0.6638          M  \n",
       "4           0.4000                0.1625          0.2364          M  \n",
       "\n",
       "[5 rows x 32 columns]"
      ]
     },
     "execution_count": 22,
     "metadata": {},
     "output_type": "execute_result"
    }
   ],
   "source": [
    "import pandas as pd\n",
    "\n",
    "# we use another datasets to demo our Logistic Regression\n",
    "df = pd.read_csv(\"data/breast-cancer.csv\")\n",
    "\n",
    "# define function to swap columns\n",
    "def swap_columns(df, col1, col2):\n",
    "    col_list = list(df.columns)\n",
    "    x, y = col_list.index(col1), col_list.index(col2)\n",
    "    col_list[y], col_list[x] = col_list[x], col_list[y]\n",
    "    df = df[col_list]\n",
    "    return df\n",
    "\n",
    "# swap \"diagnosis\" and \"fractal_dimension_worst\" columns\n",
    "df = swap_columns(df, 'diagnosis', 'fractal_dimension_worst')\n",
    "df.head()"
   ]
  },
  {
   "cell_type": "markdown",
   "id": "6db30fcc",
   "metadata": {},
   "source": [
    "## Data Preprocessing"
   ]
  },
  {
   "cell_type": "code",
   "execution_count": 23,
   "id": "17a0ba5d",
   "metadata": {},
   "outputs": [],
   "source": [
    "import numpy as np\n",
    "import torch\n",
    "from sklearn.preprocessing import StandardScaler\n",
    "from imblearn.over_sampling import RandomOverSampler\n",
    "from torch.autograd import Variable"
   ]
  },
  {
   "cell_type": "markdown",
   "id": "5e7366ae",
   "metadata": {},
   "source": [
    "Replace \"M\" with 1 and \"B\" with 0 at \"diagnosis\" column "
   ]
  },
  {
   "cell_type": "code",
   "execution_count": 24,
   "id": "9548210a",
   "metadata": {},
   "outputs": [],
   "source": [
    "# replace \"M\" with 1 and \"B\" with 0\n",
    "df[\"diagnosis\"] = (df[\"diagnosis\"] == \"M\").astype(int)"
   ]
  },
  {
   "cell_type": "markdown",
   "id": "9c8836ba",
   "metadata": {},
   "source": [
    "We define some functions in order to randomly split this dataset to:\n",
    "- Training dataset (80%)\n",
    "- Testing dataset  (20%)"
   ]
  },
  {
   "cell_type": "code",
   "execution_count": 25,
   "id": "188c50f4",
   "metadata": {},
   "outputs": [],
   "source": [
    "def print_dataset(name, data):\n",
    "    print('Dataset {}. Shape: {}'.format(name, data.shape))\n",
    "    print(data[:5])\n",
    "    \n",
    "def scale_dataset(df, overSample=False):\n",
    "    # split to fetures and diagnostic result\n",
    "    X = df[df.columns[:-1]].values\n",
    "    Y = df[df.columns[-1]].values\n",
    "    \n",
    "    # standardize the input features \n",
    "    scaler = StandardScaler()\n",
    "    X = scaler.fit_transform(X)\n",
    "    \n",
    "    # balance the class distribution\n",
    "    if overSample:\n",
    "        ros = RandomOverSampler()\n",
    "        X, Y = ros.fit_resample(X, Y)\n",
    "\n",
    "    data = np.hstack((X, np.reshape(Y, (-1, 1))))\n",
    "    \n",
    "    # convert to tensor context\n",
    "    X_train_tensor = Variable(torch.tensor(X, dtype = torch.float32))\n",
    "    Y_train_tensor = Variable(torch.tensor(Y, dtype = torch.float32))\n",
    "    data_tensor    = Variable(torch.tensor(data, dtype = torch.float32))\n",
    "    \n",
    "    return data_tensor, X_train_tensor, Y_train_tensor"
   ]
  },
  {
   "cell_type": "code",
   "execution_count": 26,
   "id": "429b827c",
   "metadata": {},
   "outputs": [
    {
     "data": {
      "text/plain": [
       "tensor([[-0.2264, -0.9424, -0.7172,  ..., -1.0148,  0.5912,  0.0000],\n",
       "        [ 0.4751,  1.1349,  0.4788,  ...,  1.0389,  1.5109,  1.0000],\n",
       "        [-0.2267, -0.7194, -0.1907,  ..., -0.0401,  0.1716,  1.0000],\n",
       "        ...,\n",
       "        [ 0.4975,  0.6004,  0.6733,  ...,  1.3867,  0.2723,  1.0000],\n",
       "        [-0.2331, -0.4657,  1.5575,  ...,  1.0621, -0.5299,  1.0000],\n",
       "        [-0.2265,  0.1794,  2.6275,  ...,  2.4658,  0.5140,  1.0000]])"
      ]
     },
     "execution_count": 26,
     "metadata": {},
     "output_type": "execute_result"
    }
   ],
   "source": [
    "# split dataframe to train and test df\n",
    "df_train, df_test = np.split(df.sample(frac=1), [int(0.8 * len(df))])\n",
    "\n",
    "# scaling and convert to tensor context\n",
    "train, X_train, Y_train = scale_dataset(df_train, True)\n",
    "test , X_test , Y_test  = scale_dataset(df_test , False)\n",
    "train"
   ]
  },
  {
   "cell_type": "markdown",
   "id": "514f8b55",
   "metadata": {},
   "source": [
    "## Logistic Regression"
   ]
  },
  {
   "cell_type": "markdown",
   "id": "65e9ddc6",
   "metadata": {},
   "source": [
    "We define our machine learning model, which is a logistic regression model. Why? Because this medical dataset is linearly separable, which simplifies things a lot.\n",
    "\n",
    "We can create the logistic regression model with the following code (we will using [pyTorch](https://en.wikipedia.org/wiki/PyTorch) in our project)"
   ]
  },
  {
   "cell_type": "code",
   "execution_count": 27,
   "id": "a32c86c1",
   "metadata": {},
   "outputs": [],
   "source": [
    "import torch\n",
    "import torch.nn as nn\n",
    "import torch.nn.functional as F\n",
    "from torch.autograd import Variable\n",
    "import matplotlib.pyplot as plt \n",
    "%matplotlib inline"
   ]
  },
  {
   "cell_type": "code",
   "execution_count": 28,
   "id": "669c0951",
   "metadata": {},
   "outputs": [],
   "source": [
    "class LogisticRegression(torch.nn.Module):\n",
    "    def __init__(self, num_features):\n",
    "        # init super class of LogisticRegression\n",
    "        super(LogisticRegression, self).__init__()\n",
    "        \n",
    "        # create \"linear neural network\"\n",
    "        input_dim  = num_features\n",
    "        output_dim = 1\n",
    "        self.linear = torch.nn.Linear(input_dim, output_dim)\n",
    "\n",
    "        # initialize Weights and Bias\n",
    "        self.linear.weight.detach().zero_()\n",
    "        self.linear.bias.detach().zero_()\n",
    "\n",
    "    def forward(self, x):\n",
    "        return torch.sigmoid(self.linear(x))"
   ]
  },
  {
   "cell_type": "markdown",
   "id": "02c7eb24",
   "metadata": {},
   "source": [
    "In our “forward” pass of the PyTorch neural network (really just a perceptron), Logistic regression can also be visualized as a network of features feeding into a single logistic function, the visual representation and corresponding equations are shown below:\n",
    "\n",
    "<p align='center'>\n",
    "    <img src='images/logistic_model_overview.png'>\n",
    "</p>"
   ]
  },
  {
   "cell_type": "markdown",
   "id": "4d690b8d",
   "metadata": {},
   "source": [
    "### Sigmoid function\n",
    "\n",
    "The sigmoid function is extremely useful for two main reasons:\n",
    "\n",
    "* It transforms our linear regression output to a probability from 0 to 1. We can then take any probability greater than 0.5 as being 1 and below as being 0.\n",
    "\n",
    "* Unlike a stepwise function (which would transform the data into the binary case as well), the sigmoid is differentiable, which is necessary for optimizing the parameters using gradient descent (we will show later).\n",
    "\n",
    "<p align='center'>\n",
    "    <img src='images/sigmoid.png'>\n",
    "</p>"
   ]
  },
  {
   "cell_type": "markdown",
   "id": "c51f8f15",
   "metadata": {},
   "source": [
    "### Training process\n",
    "\n",
    "Firstly, we should assign some hyper-parameters"
   ]
  },
  {
   "cell_type": "code",
   "execution_count": 29,
   "id": "1ec346ec",
   "metadata": {},
   "outputs": [],
   "source": [
    "input_dim = 31 # numbers of features \n",
    "epochs = 10000\n",
    "learning_rate = 0.01"
   ]
  },
  {
   "cell_type": "markdown",
   "id": "78085473",
   "metadata": {},
   "source": [
    "Parameter Definitions:\n",
    "\n",
    "* **Epoch**: Indicates the number of passes through the entire training dataset the network has completed.\n",
    "* **learning_rate**: A tuning parameter in an optimization algorithm that determines the step size at each iteration while moving toward a minimum of a loss function."
   ]
  },
  {
   "cell_type": "code",
   "execution_count": 33,
   "id": "f1e760bf",
   "metadata": {},
   "outputs": [],
   "source": [
    "#from tqdm.notebook import tqdm\n",
    "from tqdm import tqdm\n",
    "\n",
    "def decide(y):\n",
    "    return 1. if y >= 0.5 else 0.\n",
    "\n",
    "decide_vectorized = np.vectorize(decide)\n",
    "to_percent = lambda x: '{:.2f}%'.format(x)\n",
    "\n",
    "def compute_accuracy(model, input, output):\n",
    "    prediction = model(input).data.numpy()[:, 0]\n",
    "    n_samples = prediction.shape[0] + 0.\n",
    "    prediction = decide_vectorized(prediction)\n",
    "    equal = prediction == output.data.numpy()\n",
    "    return 100. * equal.sum() / n_samples\n",
    "\n",
    "def Training(X_train, Y_train, X_test, Y_test, debug=True):\n",
    "    model = LogisticRegression(input_dim)\n",
    "    n_samples, _ = X_train.shape\n",
    "    \n",
    "    # record losses and accuracies during training\n",
    "    losses = []\n",
    "    accuracies = []\n",
    "    \n",
    "    # define criterion function and set up optimizer\n",
    "    criterion = torch.nn.BCELoss(reduction='mean')\n",
    "    optimizer = torch.optim.SGD(model.parameters(), lr=learning_rate)  \n",
    "    \n",
    "    # main process\n",
    "    for epoch in tqdm(range(epochs)):  \n",
    "        optimizer.zero_grad()\n",
    "        #### Compute outputs ####\n",
    "        prediction = model(X_train)\n",
    "        \n",
    "        #### Compute gradients ####\n",
    "        loss = criterion(prediction.squeeze(), Y_train)\n",
    "        \n",
    "        loss.backward()\n",
    "        \n",
    "        #### Update weights #### \n",
    "        optimizer.step()\n",
    "            \n",
    "        #### Logging ####\n",
    "        if debug and (epoch + 1)%50 == 0:\n",
    "            # compute accuracy and loss\n",
    "            train_acc = compute_accuracy(model, X_train, Y_train)\n",
    "            train_loss = loss.item()\n",
    "            losses.append(train_loss)\n",
    "            accuracies.append(train_acc)\n",
    "            \n",
    "            print('[LOG] Epoch: %05d' % (epoch + 1), end=\"\")\n",
    "            print('    | Train ACC: %s' % to_percent(train_acc), end=\"\")\n",
    "            print('    | Loss: %.3f' % train_loss)\n",
    "\n",
    "    recorded = [accuracies, losses]\n",
    "    return model, recorded"
   ]
  },
  {
   "cell_type": "markdown",
   "id": "e289c595",
   "metadata": {},
   "source": [
    "In this above code, we introduce two important functions: the Loss Function and the Optimizer\n",
    "\n",
    "**Binary Cross Entropy Loss Function**\n",
    "\n",
    "```python\n",
    "criterion = torch.nn.BCELoss(reduction='mean')\n",
    "```\n",
    "<p align='center'>\n",
    "    <img src='images/loss_function.png'>\n",
    "</p>\n",
    "\n",
    "* $m$: Number of training examples\n",
    "* $y$: The true $y$ value\n",
    "* $\\hat{y}$: Predicted $y$ value\n",
    "\n",
    "**Stochastic Gradient Descent Optimizer**\n",
    "\n",
    "```python\n",
    "optimizer = torch.optim.SGD(model.parameters(), lr=learning_rate)  \n",
    "```\n",
    "\n",
    "We update the parameters to minimize the loss function with the following equations:\n",
    "\n",
    "* Update model **Weights**:\n",
    "\n",
    "<p align='center'>\n",
    "    <img src='images/update_w.webp'>\n",
    "</p>\n",
    "\n",
    "* Update model **Bias**:\n",
    "\n",
    "<p align='center'>\n",
    "    <img src='images/update_b.webp'>\n",
    "</p>\n",
    "\n",
    "where $\\alpha$ is the **learning_rate**\n",
    "\n",
    "<p align='center'>\n",
    "    <img src='images/gradient_descent.png' title='Gradient Descent'>\n",
    "</p>"
   ]
  },
  {
   "cell_type": "markdown",
   "id": "efd7197c",
   "metadata": {},
   "source": [
    "Demo our training model"
   ]
  },
  {
   "cell_type": "code",
   "execution_count": 34,
   "id": "31ad3d69",
   "metadata": {},
   "outputs": [
    {
     "name": "stderr",
     "output_type": "stream",
     "text": [
      "\n",
      "\n",
      "\u001b[A\u001b[A\n",
      "\n",
      "\u001b[A\u001b[A\n",
      "\n",
      "\u001b[A\u001b[A"
     ]
    },
    {
     "name": "stdout",
     "output_type": "stream",
     "text": [
      "[LOG] Epoch: 00050    | Train ACC: 94.76%    | Loss: 0.329\n",
      "[LOG] Epoch: 00100    | Train ACC: 95.63%    | Loss: 0.252\n",
      "[LOG] Epoch: 00150    | Train ACC: 95.80%    | Loss: 0.215\n",
      "[LOG] Epoch: 00200    | Train ACC: 96.33%    | Loss: 0.192\n",
      "[LOG] Epoch: 00250    | Train ACC: 96.68%    | Loss: 0.177\n",
      "[LOG] Epoch: 00300    | Train ACC: 96.50%    | Loss: 0.165\n",
      "[LOG] Epoch: 00350    | Train ACC: 96.50%    | Loss: 0.156\n",
      "[LOG] Epoch: 00400    | Train ACC: 96.85%    | Loss: 0.148\n",
      "[LOG] Epoch: 00450    | Train ACC: 96.50%    | Loss: 0.142\n",
      "[LOG] Epoch: 00500    | Train ACC: 96.68%    | Loss: 0.137\n",
      "[LOG] Epoch: 00550    | Train ACC: 96.68%    | Loss: 0.133\n",
      "[LOG] Epoch: 00600    | Train ACC: 96.68%    | Loss: 0.129\n",
      "[LOG] Epoch: 00650    | Train ACC: 96.68%    | Loss: 0.125\n",
      "[LOG] Epoch: 00700    | Train ACC: 96.68%    | Loss: 0.122\n",
      "[LOG] Epoch: 00750    | Train ACC: 96.85%    | Loss: 0.119\n",
      "[LOG] Epoch: 00800    | Train ACC: 97.03%    | Loss: 0.117\n",
      "[LOG] Epoch: 00850    | Train ACC: 97.03%    | Loss: 0.115\n"
     ]
    },
    {
     "name": "stderr",
     "output_type": "stream",
     "text": [
      "\n",
      "\n",
      "\u001b[A\u001b[A\n",
      "\n",
      "\u001b[A\u001b[A"
     ]
    },
    {
     "name": "stdout",
     "output_type": "stream",
     "text": [
      "[LOG] Epoch: 00900    | Train ACC: 97.03%    | Loss: 0.113\n",
      "[LOG] Epoch: 00950    | Train ACC: 97.03%    | Loss: 0.111\n",
      "[LOG] Epoch: 01000    | Train ACC: 97.03%    | Loss: 0.109\n",
      "[LOG] Epoch: 01050    | Train ACC: 97.03%    | Loss: 0.107\n",
      "[LOG] Epoch: 01100    | Train ACC: 97.03%    | Loss: 0.106\n",
      "[LOG] Epoch: 01150    | Train ACC: 97.03%    | Loss: 0.104\n",
      "[LOG] Epoch: 01200    | Train ACC: 97.38%    | Loss: 0.103\n",
      "[LOG] Epoch: 01250    | Train ACC: 97.38%    | Loss: 0.102\n",
      "[LOG] Epoch: 01300    | Train ACC: 97.38%    | Loss: 0.101\n",
      "[LOG] Epoch: 01350    | Train ACC: 97.38%    | Loss: 0.099\n",
      "[LOG] Epoch: 01400    | Train ACC: 97.55%    | Loss: 0.098\n",
      "[LOG] Epoch: 01450    | Train ACC: 97.55%    | Loss: 0.097\n",
      "[LOG] Epoch: 01500    | Train ACC: 97.55%    | Loss: 0.096\n",
      "[LOG] Epoch: 01550    | Train ACC: 97.55%    | Loss: 0.096\n",
      "[LOG] Epoch: 01600    | Train ACC: 97.55%    | Loss: 0.095\n",
      "[LOG] Epoch: 01650    | Train ACC: 97.55%    | Loss: 0.094\n",
      "[LOG] Epoch: 01700    | Train ACC: 97.55%    | Loss: 0.093\n",
      "[LOG] Epoch: 01750    | Train ACC: 97.73%    | Loss: 0.092\n"
     ]
    },
    {
     "name": "stderr",
     "output_type": "stream",
     "text": [
      "\n",
      "\n",
      "\u001b[A\u001b[A\n",
      "\n",
      "\u001b[A\u001b[A"
     ]
    },
    {
     "name": "stdout",
     "output_type": "stream",
     "text": [
      "[LOG] Epoch: 01800    | Train ACC: 97.73%    | Loss: 0.092\n",
      "[LOG] Epoch: 01850    | Train ACC: 97.73%    | Loss: 0.091\n",
      "[LOG] Epoch: 01900    | Train ACC: 97.73%    | Loss: 0.090\n",
      "[LOG] Epoch: 01950    | Train ACC: 97.73%    | Loss: 0.090\n",
      "[LOG] Epoch: 02000    | Train ACC: 97.73%    | Loss: 0.089\n",
      "[LOG] Epoch: 02050    | Train ACC: 97.73%    | Loss: 0.089\n",
      "[LOG] Epoch: 02100    | Train ACC: 97.73%    | Loss: 0.088\n",
      "[LOG] Epoch: 02150    | Train ACC: 97.73%    | Loss: 0.087\n",
      "[LOG] Epoch: 02200    | Train ACC: 97.73%    | Loss: 0.087\n",
      "[LOG] Epoch: 02250    | Train ACC: 97.73%    | Loss: 0.086\n",
      "[LOG] Epoch: 02300    | Train ACC: 97.73%    | Loss: 0.086\n",
      "[LOG] Epoch: 02350    | Train ACC: 97.73%    | Loss: 0.085\n",
      "[LOG] Epoch: 02400    | Train ACC: 97.73%    | Loss: 0.085\n",
      "[LOG] Epoch: 02450    | Train ACC: 97.73%    | Loss: 0.085\n",
      "[LOG] Epoch: 02500    | Train ACC: 97.73%    | Loss: 0.084\n"
     ]
    },
    {
     "name": "stderr",
     "output_type": "stream",
     "text": [
      "\n",
      "\n",
      "\u001b[A\u001b[A\n",
      "\n",
      "\u001b[A\u001b[A"
     ]
    },
    {
     "name": "stdout",
     "output_type": "stream",
     "text": [
      "[LOG] Epoch: 02550    | Train ACC: 97.73%    | Loss: 0.084\n",
      "[LOG] Epoch: 02600    | Train ACC: 97.73%    | Loss: 0.083\n",
      "[LOG] Epoch: 02650    | Train ACC: 97.73%    | Loss: 0.083\n",
      "[LOG] Epoch: 02700    | Train ACC: 97.73%    | Loss: 0.083\n",
      "[LOG] Epoch: 02750    | Train ACC: 97.73%    | Loss: 0.082\n",
      "[LOG] Epoch: 02800    | Train ACC: 97.73%    | Loss: 0.082\n",
      "[LOG] Epoch: 02850    | Train ACC: 97.73%    | Loss: 0.082\n",
      "[LOG] Epoch: 02900    | Train ACC: 97.73%    | Loss: 0.081\n",
      "[LOG] Epoch: 02950    | Train ACC: 97.73%    | Loss: 0.081\n",
      "[LOG] Epoch: 03000    | Train ACC: 97.73%    | Loss: 0.081\n",
      "[LOG] Epoch: 03050    | Train ACC: 97.73%    | Loss: 0.080\n",
      "[LOG] Epoch: 03100    | Train ACC: 97.73%    | Loss: 0.080\n",
      "[LOG] Epoch: 03150    | Train ACC: 97.73%    | Loss: 0.080\n",
      "[LOG] Epoch: 03200    | Train ACC: 97.73%    | Loss: 0.079\n",
      "[LOG] Epoch: 03250    | Train ACC: 97.73%    | Loss: 0.079\n",
      "[LOG] Epoch: 03300    | Train ACC: 97.73%    | Loss: 0.079\n",
      "[LOG] Epoch: 03350    | Train ACC: 97.73%    | Loss: 0.079\n"
     ]
    },
    {
     "name": "stderr",
     "output_type": "stream",
     "text": [
      "\n",
      "\n",
      "\u001b[A\u001b[A\n",
      "\n",
      "\u001b[A\u001b[A"
     ]
    },
    {
     "name": "stdout",
     "output_type": "stream",
     "text": [
      "[LOG] Epoch: 03400    | Train ACC: 97.73%    | Loss: 0.078\n",
      "[LOG] Epoch: 03450    | Train ACC: 97.73%    | Loss: 0.078\n",
      "[LOG] Epoch: 03500    | Train ACC: 97.73%    | Loss: 0.078\n",
      "[LOG] Epoch: 03550    | Train ACC: 97.73%    | Loss: 0.078\n",
      "[LOG] Epoch: 03600    | Train ACC: 97.73%    | Loss: 0.077\n",
      "[LOG] Epoch: 03650    | Train ACC: 97.73%    | Loss: 0.077\n",
      "[LOG] Epoch: 03700    | Train ACC: 97.73%    | Loss: 0.077\n",
      "[LOG] Epoch: 03750    | Train ACC: 97.73%    | Loss: 0.077\n",
      "[LOG] Epoch: 03800    | Train ACC: 97.73%    | Loss: 0.076\n",
      "[LOG] Epoch: 03850    | Train ACC: 97.73%    | Loss: 0.076\n",
      "[LOG] Epoch: 03900    | Train ACC: 97.73%    | Loss: 0.076\n",
      "[LOG] Epoch: 03950    | Train ACC: 97.73%    | Loss: 0.076\n",
      "[LOG] Epoch: 04000    | Train ACC: 97.73%    | Loss: 0.076\n",
      "[LOG] Epoch: 04050    | Train ACC: 97.73%    | Loss: 0.075\n",
      "[LOG] Epoch: 04100    | Train ACC: 97.73%    | Loss: 0.075\n",
      "[LOG] Epoch: 04150    | Train ACC: 97.73%    | Loss: 0.075\n",
      "[LOG] Epoch: 04200    | Train ACC: 97.73%    | Loss: 0.075\n"
     ]
    },
    {
     "name": "stderr",
     "output_type": "stream",
     "text": [
      "\n",
      "\n",
      "\u001b[A\u001b[A\n",
      "\n",
      "\u001b[A\u001b[A\n",
      "\n",
      "\n"
     ]
    },
    {
     "name": "stdout",
     "output_type": "stream",
     "text": [
      "[LOG] Epoch: 04250    | Train ACC: 97.73%    | Loss: 0.075\n",
      "[LOG] Epoch: 04300    | Train ACC: 97.73%    | Loss: 0.074\n",
      "[LOG] Epoch: 04350    | Train ACC: 97.73%    | Loss: 0.074\n",
      "[LOG] Epoch: 04400    | Train ACC: 97.73%    | Loss: 0.074\n",
      "[LOG] Epoch: 04450    | Train ACC: 97.73%    | Loss: 0.074\n",
      "[LOG] Epoch: 04500    | Train ACC: 97.73%    | Loss: 0.074\n",
      "[LOG] Epoch: 04550    | Train ACC: 97.73%    | Loss: 0.073\n",
      "[LOG] Epoch: 04600    | Train ACC: 97.73%    | Loss: 0.073\n",
      "[LOG] Epoch: 04650    | Train ACC: 97.73%    | Loss: 0.073\n",
      "[LOG] Epoch: 04700    | Train ACC: 97.73%    | Loss: 0.073\n",
      "[LOG] Epoch: 04750    | Train ACC: 97.73%    | Loss: 0.073\n",
      "[LOG] Epoch: 04800    | Train ACC: 97.73%    | Loss: 0.073\n",
      "[LOG] Epoch: 04850    | Train ACC: 97.73%    | Loss: 0.073\n",
      "[LOG] Epoch: 04900    | Train ACC: 97.73%    | Loss: 0.072\n",
      "[LOG] Epoch: 04950    | Train ACC: 97.73%    | Loss: 0.072\n",
      "[LOG] Epoch: 05000    | Train ACC: 97.73%    | Loss: 0.072\n",
      "[LOG] Epoch: 05050    | Train ACC: 97.73%    | Loss: 0.072\n"
     ]
    },
    {
     "name": "stderr",
     "output_type": "stream",
     "text": [
      " 50%|█████     | 5050/10000 [00:01<00:01, 3961.88it/s]\u001b[A\u001b[A\u001b[A\n",
      "\n",
      "\u001b[A\u001b[A\n",
      "\n",
      "\n"
     ]
    },
    {
     "name": "stdout",
     "output_type": "stream",
     "text": [
      "[LOG] Epoch: 05100    | Train ACC: 97.73%    | Loss: 0.072\n",
      "[LOG] Epoch: 05150    | Train ACC: 97.73%    | Loss: 0.072\n",
      "[LOG] Epoch: 05200    | Train ACC: 97.73%    | Loss: 0.072\n",
      "[LOG] Epoch: 05250    | Train ACC: 97.73%    | Loss: 0.071\n",
      "[LOG] Epoch: 05300    | Train ACC: 97.73%    | Loss: 0.071\n",
      "[LOG] Epoch: 05350    | Train ACC: 97.73%    | Loss: 0.071\n",
      "[LOG] Epoch: 05400    | Train ACC: 97.73%    | Loss: 0.071\n",
      "[LOG] Epoch: 05450    | Train ACC: 97.73%    | Loss: 0.071\n",
      "[LOG] Epoch: 05500    | Train ACC: 97.73%    | Loss: 0.071\n",
      "[LOG] Epoch: 05550    | Train ACC: 97.73%    | Loss: 0.071\n",
      "[LOG] Epoch: 05600    | Train ACC: 97.73%    | Loss: 0.070\n",
      "[LOG] Epoch: 05650    | Train ACC: 97.73%    | Loss: 0.070\n",
      "[LOG] Epoch: 05700    | Train ACC: 97.73%    | Loss: 0.070\n",
      "[LOG] Epoch: 05750    | Train ACC: 97.73%    | Loss: 0.070\n",
      "[LOG] Epoch: 05800    | Train ACC: 97.73%    | Loss: 0.070\n"
     ]
    },
    {
     "name": "stderr",
     "output_type": "stream",
     "text": [
      " 58%|█████▊    | 5841/10000 [00:01<00:01, 3933.65it/s]\u001b[A\u001b[A\u001b[A\n",
      "\n",
      "\u001b[A\u001b[A\n",
      "\n",
      "\n"
     ]
    },
    {
     "name": "stdout",
     "output_type": "stream",
     "text": [
      "[LOG] Epoch: 05850    | Train ACC: 97.73%    | Loss: 0.070\n",
      "[LOG] Epoch: 05900    | Train ACC: 97.73%    | Loss: 0.070\n",
      "[LOG] Epoch: 05950    | Train ACC: 97.73%    | Loss: 0.070\n",
      "[LOG] Epoch: 06000    | Train ACC: 97.73%    | Loss: 0.070\n",
      "[LOG] Epoch: 06050    | Train ACC: 97.73%    | Loss: 0.069\n",
      "[LOG] Epoch: 06100    | Train ACC: 97.73%    | Loss: 0.069\n",
      "[LOG] Epoch: 06150    | Train ACC: 97.73%    | Loss: 0.069\n",
      "[LOG] Epoch: 06200    | Train ACC: 97.73%    | Loss: 0.069\n",
      "[LOG] Epoch: 06250    | Train ACC: 97.73%    | Loss: 0.069\n",
      "[LOG] Epoch: 06300    | Train ACC: 97.73%    | Loss: 0.069\n",
      "[LOG] Epoch: 06350    | Train ACC: 97.73%    | Loss: 0.069\n",
      "[LOG] Epoch: 06400    | Train ACC: 97.73%    | Loss: 0.069\n",
      "[LOG] Epoch: 06450    | Train ACC: 97.73%    | Loss: 0.069\n",
      "[LOG] Epoch: 06500    | Train ACC: 97.73%    | Loss: 0.068\n",
      "[LOG] Epoch: 06550    | Train ACC: 97.73%    | Loss: 0.068\n",
      "[LOG] Epoch: 06600    | Train ACC: 97.73%    | Loss: 0.068\n"
     ]
    },
    {
     "name": "stderr",
     "output_type": "stream",
     "text": [
      " 66%|██████▋   | 6644/10000 [00:01<00:00, 3957.73it/s]\u001b[A\u001b[A\u001b[A\n",
      "\n",
      "\u001b[A\u001b[A\n",
      "\n",
      "\n"
     ]
    },
    {
     "name": "stdout",
     "output_type": "stream",
     "text": [
      "[LOG] Epoch: 06650    | Train ACC: 97.73%    | Loss: 0.068\n",
      "[LOG] Epoch: 06700    | Train ACC: 97.73%    | Loss: 0.068\n",
      "[LOG] Epoch: 06750    | Train ACC: 97.73%    | Loss: 0.068\n",
      "[LOG] Epoch: 06800    | Train ACC: 97.73%    | Loss: 0.068\n",
      "[LOG] Epoch: 06850    | Train ACC: 97.73%    | Loss: 0.068\n",
      "[LOG] Epoch: 06900    | Train ACC: 97.73%    | Loss: 0.068\n",
      "[LOG] Epoch: 06950    | Train ACC: 97.73%    | Loss: 0.068\n",
      "[LOG] Epoch: 07000    | Train ACC: 97.73%    | Loss: 0.068\n",
      "[LOG] Epoch: 07050    | Train ACC: 97.73%    | Loss: 0.067\n",
      "[LOG] Epoch: 07100    | Train ACC: 97.73%    | Loss: 0.067\n",
      "[LOG] Epoch: 07150    | Train ACC: 97.73%    | Loss: 0.067\n",
      "[LOG] Epoch: 07200    | Train ACC: 97.73%    | Loss: 0.067\n",
      "[LOG] Epoch: 07250    | Train ACC: 97.73%    | Loss: 0.067\n",
      "[LOG] Epoch: 07300    | Train ACC: 97.73%    | Loss: 0.067\n",
      "[LOG] Epoch: 07350    | Train ACC: 97.73%    | Loss: 0.067\n",
      "[LOG] Epoch: 07400    | Train ACC: 97.73%    | Loss: 0.067\n"
     ]
    },
    {
     "name": "stderr",
     "output_type": "stream",
     "text": [
      " 74%|███████▍  | 7433/10000 [00:01<00:00, 3915.54it/s]\u001b[A\u001b[A\u001b[A\n",
      "\n",
      "\u001b[A\u001b[A\n",
      "\n",
      "\n"
     ]
    },
    {
     "name": "stdout",
     "output_type": "stream",
     "text": [
      "[LOG] Epoch: 07450    | Train ACC: 97.73%    | Loss: 0.067\n",
      "[LOG] Epoch: 07500    | Train ACC: 97.73%    | Loss: 0.067\n",
      "[LOG] Epoch: 07550    | Train ACC: 97.73%    | Loss: 0.067\n",
      "[LOG] Epoch: 07600    | Train ACC: 97.73%    | Loss: 0.067\n",
      "[LOG] Epoch: 07650    | Train ACC: 97.73%    | Loss: 0.066\n",
      "[LOG] Epoch: 07700    | Train ACC: 97.73%    | Loss: 0.066\n",
      "[LOG] Epoch: 07750    | Train ACC: 97.73%    | Loss: 0.066\n",
      "[LOG] Epoch: 07800    | Train ACC: 97.73%    | Loss: 0.066\n",
      "[LOG] Epoch: 07850    | Train ACC: 97.73%    | Loss: 0.066\n",
      "[LOG] Epoch: 07900    | Train ACC: 97.73%    | Loss: 0.066\n",
      "[LOG] Epoch: 07950    | Train ACC: 97.73%    | Loss: 0.066\n",
      "[LOG] Epoch: 08000    | Train ACC: 97.73%    | Loss: 0.066\n",
      "[LOG] Epoch: 08050    | Train ACC: 97.73%    | Loss: 0.066\n",
      "[LOG] Epoch: 08100    | Train ACC: 97.73%    | Loss: 0.066\n",
      "[LOG] Epoch: 08150    | Train ACC: 97.73%    | Loss: 0.066\n",
      "[LOG] Epoch: 08200    | Train ACC: 97.73%    | Loss: 0.066\n"
     ]
    },
    {
     "name": "stderr",
     "output_type": "stream",
     "text": [
      " 82%|████████▏ | 8227/10000 [00:02<00:00, 3925.96it/s]\u001b[A\u001b[A\u001b[A\n",
      "\n",
      "\u001b[A\u001b[A\n",
      "\n",
      "\n"
     ]
    },
    {
     "name": "stdout",
     "output_type": "stream",
     "text": [
      "[LOG] Epoch: 08250    | Train ACC: 97.73%    | Loss: 0.066\n",
      "[LOG] Epoch: 08300    | Train ACC: 97.73%    | Loss: 0.066\n",
      "[LOG] Epoch: 08350    | Train ACC: 97.73%    | Loss: 0.065\n",
      "[LOG] Epoch: 08400    | Train ACC: 97.73%    | Loss: 0.065\n",
      "[LOG] Epoch: 08450    | Train ACC: 97.73%    | Loss: 0.065\n",
      "[LOG] Epoch: 08500    | Train ACC: 97.73%    | Loss: 0.065\n",
      "[LOG] Epoch: 08550    | Train ACC: 97.73%    | Loss: 0.065\n",
      "[LOG] Epoch: 08600    | Train ACC: 97.73%    | Loss: 0.065\n",
      "[LOG] Epoch: 08650    | Train ACC: 97.73%    | Loss: 0.065\n",
      "[LOG] Epoch: 08700    | Train ACC: 97.73%    | Loss: 0.065\n",
      "[LOG] Epoch: 08750    | Train ACC: 97.73%    | Loss: 0.065\n",
      "[LOG] Epoch: 08800    | Train ACC: 97.73%    | Loss: 0.065\n",
      "[LOG] Epoch: 08850    | Train ACC: 97.73%    | Loss: 0.065\n",
      "[LOG] Epoch: 08900    | Train ACC: 97.73%    | Loss: 0.065\n",
      "[LOG] Epoch: 08950    | Train ACC: 97.73%    | Loss: 0.065\n",
      "[LOG] Epoch: 09000    | Train ACC: 97.73%    | Loss: 0.065\n"
     ]
    },
    {
     "name": "stderr",
     "output_type": "stream",
     "text": [
      " 90%|█████████ | 9021/10000 [00:02<00:00, 3938.71it/s]\u001b[A\u001b[A\u001b[A\n",
      "\n",
      "\u001b[A\u001b[A\n",
      "\n",
      "\n"
     ]
    },
    {
     "name": "stdout",
     "output_type": "stream",
     "text": [
      "[LOG] Epoch: 09050    | Train ACC: 97.73%    | Loss: 0.065\n",
      "[LOG] Epoch: 09100    | Train ACC: 97.73%    | Loss: 0.065\n",
      "[LOG] Epoch: 09150    | Train ACC: 97.73%    | Loss: 0.064\n",
      "[LOG] Epoch: 09200    | Train ACC: 97.73%    | Loss: 0.064\n",
      "[LOG] Epoch: 09250    | Train ACC: 97.73%    | Loss: 0.064\n",
      "[LOG] Epoch: 09300    | Train ACC: 97.73%    | Loss: 0.064\n",
      "[LOG] Epoch: 09350    | Train ACC: 97.73%    | Loss: 0.064\n",
      "[LOG] Epoch: 09400    | Train ACC: 97.73%    | Loss: 0.064\n",
      "[LOG] Epoch: 09450    | Train ACC: 97.73%    | Loss: 0.064\n",
      "[LOG] Epoch: 09500    | Train ACC: 97.73%    | Loss: 0.064\n",
      "[LOG] Epoch: 09550    | Train ACC: 97.73%    | Loss: 0.064\n",
      "[LOG] Epoch: 09600    | Train ACC: 97.73%    | Loss: 0.064\n",
      "[LOG] Epoch: 09650    | Train ACC: 97.73%    | Loss: 0.064\n",
      "[LOG] Epoch: 09700    | Train ACC: 97.73%    | Loss: 0.064\n",
      "[LOG] Epoch: 09750    | Train ACC: 97.73%    | Loss: 0.064\n",
      "[LOG] Epoch: 09800    | Train ACC: 97.73%    | Loss: 0.064\n"
     ]
    },
    {
     "name": "stderr",
     "output_type": "stream",
     "text": [
      "100%|██████████| 10000/10000 [00:02<00:00, 3889.33it/s][A\u001b[A\u001b[A"
     ]
    },
    {
     "name": "stdout",
     "output_type": "stream",
     "text": [
      "[LOG] Epoch: 09850    | Train ACC: 97.73%    | Loss: 0.064\n",
      "[LOG] Epoch: 09900    | Train ACC: 97.73%    | Loss: 0.064\n",
      "[LOG] Epoch: 09950    | Train ACC: 97.73%    | Loss: 0.064\n",
      "[LOG] Epoch: 10000    | Train ACC: 97.73%    | Loss: 0.063\n"
     ]
    },
    {
     "name": "stderr",
     "output_type": "stream",
     "text": [
      "\n"
     ]
    }
   ],
   "source": [
    "# training process\n",
    "final_model, recorded = Training(X_train, Y_train, X_test, Y_test)"
   ]
  },
  {
   "cell_type": "markdown",
   "id": "744f73c9",
   "metadata": {},
   "source": [
    "Model parameters after training process"
   ]
  },
  {
   "cell_type": "code",
   "execution_count": 35,
   "id": "8d91ac62",
   "metadata": {
    "scrolled": true
   },
   "outputs": [
    {
     "name": "stdout",
     "output_type": "stream",
     "text": [
      "Model parameters:\n",
      "  | Weights: Parameter containing:\n",
      "tensor([[ 0.1775,  0.1013,  0.5244,  0.6854,  0.5064,  0.5476,  0.3611, -0.1185,\n",
      "          0.6142,  0.7197,  0.0765, -0.4699,  0.9149, -0.1489,  0.6492,  0.6991,\n",
      "          0.0543, -0.5385, -0.0402,  0.2178, -0.3666, -0.5387,  0.8704,  1.0320,\n",
      "          0.7821,  0.8198,  0.6643,  0.1499,  0.6524,  0.8641,  0.6705]],\n",
      "       requires_grad=True)\n",
      "  | Bias: Parameter containing:\n",
      "tensor([-0.2263], requires_grad=True)\n"
     ]
    }
   ],
   "source": [
    "print('Model parameters:')\n",
    "print('  | Weights: %s' % final_model.linear.weight)\n",
    "print('  | Bias: %s'    % final_model.linear.bias)"
   ]
  },
  {
   "cell_type": "markdown",
   "id": "be4b934d",
   "metadata": {},
   "source": [
    "### Virtualize record of training process"
   ]
  },
  {
   "cell_type": "code",
   "execution_count": 36,
   "id": "6f6c2519",
   "metadata": {},
   "outputs": [
    {
     "data": {
      "image/png": "[encoded data removed]",
      "text/plain": [
       "<Figure size 640x480 with 1 Axes>"
      ]
     },
     "metadata": {},
     "output_type": "display_data"
    },
    {
     "data": {
      "image/png": "[encoded data removed]",
      "text/plain": [
       "<Figure size 640x480 with 1 Axes>"
      ]
     },
     "metadata": {},
     "output_type": "display_data"
    }
   ],
   "source": [
    "def plot_graphs(diagnosis_title, record):\n",
    "    accuracies, losses = record\n",
    "    plt.plot(losses)\n",
    "    plt.title(f\"{diagnosis_title} - Training Loss\")\n",
    "    plt.xlabel(\"Iterations\")\n",
    "    plt.ylabel(\"Training Loss\")\n",
    "    plt.show()\n",
    "    plt.plot(accuracies)\n",
    "    plt.title(f\"{diagnosis_title} - Training Accuracy\")\n",
    "    plt.xlabel(\"Iterations\")\n",
    "    plt.ylabel(\"Training Accuracy (Percent %)\")\n",
    "    plt.show()\n",
    "\n",
    "diagnosis_title = 'Breast cancer'\n",
    "plot_graphs(diagnosis_title, recorded)"
   ]
  },
  {
   "cell_type": "markdown",
   "id": "eaaf25b7",
   "metadata": {},
   "source": [
    "### Evaluating the Model"
   ]
  },
  {
   "cell_type": "code",
   "execution_count": 37,
   "id": "5f90ff66",
   "metadata": {},
   "outputs": [
    {
     "name": "stdout",
     "output_type": "stream",
     "text": [
      "[+] Testing Accuracy = 99.12%\n"
     ]
    }
   ],
   "source": [
    "test_acc = compute_accuracy(final_model, X_test, Y_test)\n",
    "print('[+] Testing Accuracy = {}'.format(to_percent(test_acc)))"
   ]
  },
  {
   "cell_type": "markdown",
   "id": "09624fec",
   "metadata": {},
   "source": [
    "We actually train the machine learning model to diagnose the Breast cancer. As you can see in the graphs, the training loss drops quickly to almost zero and the training accuracy reaches the 98%. The testing accuracy is also 94.74. Notice that this machine learning system diagnoses this disease in a perfect way; whereas human doctors can commit mistakes."
   ]
  },
  {
   "cell_type": "markdown",
   "id": "49831ce4",
   "metadata": {},
   "source": [
    "## Federated Learning"
   ]
  },
  {
   "cell_type": "markdown",
   "id": "7492c434",
   "metadata": {},
   "source": [
    "So far, we have used machine learning in an insecure way. Now, we introduce our proposed encrypted learning model. This is a combination of federated learning and homomorphic encryption!\n",
    "\n",
    "<p align='center'>\n",
    "    <img src='images/encrypted_learning.png'>\n",
    "</p>"
   ]
  },
  {
   "cell_type": "markdown",
   "id": "f42c78dc",
   "metadata": {},
   "source": [
    "**Set up**\n",
    "\n",
    "- 1. Define HE scheme, Hospitals shared a HE private key, and share with the Aggregator a public key.\n",
    "- 2. Define the model that use to train."
   ]
  },
  {
   "cell_type": "markdown",
   "id": "968a88fe",
   "metadata": {},
   "source": [
    "**Local training**\n",
    "- 3. Hospitals train locally with the model in plaintext, extract model updates (the final weights) and encrypt them using the private HE key.\n",
    "- 4. Each hospital sends its encrypted model's weights to the Aggregator (untrusted)."
   ]
  },
  {
   "cell_type": "markdown",
   "id": "e462933f",
   "metadata": {},
   "source": [
    "**Global model weight aggregator**\n",
    "- 5. Aggregator uses its public key to perform homomorphic operation on the encrypted weights to obtain new encrypted model, and send its to hospitals."
   ]
  },
  {
   "cell_type": "markdown",
   "id": "8648dec4",
   "metadata": {},
   "source": [
    "**Repeated**\n",
    "- 6. Each hospital receives the decrypted model, then uses their private HE key, decrypts its to get the new model.\n",
    "- 7. This process ís repeated until hospitals find the new desired model or after a termination criteria is met."
   ]
  },
  {
   "cell_type": "markdown",
   "id": "f2e13ec8",
   "metadata": {},
   "source": [
    "### Datasets"
   ]
  },
  {
   "cell_type": "code",
   "execution_count": 38,
   "id": "30edbdc4",
   "metadata": {},
   "outputs": [],
   "source": [
    "import pandas as pd"
   ]
  },
  {
   "cell_type": "markdown",
   "id": "69fa8cfc",
   "metadata": {},
   "source": [
    "### Dataset 1\n",
    "\n",
    "[source](https://www.kaggle.com/datasets/yasserh/breast-cancer-dataset)\n",
    "\n",
    "**Description:**\n",
    "Breast cancer is the most common cancer amongst women in the world. It accounts for 25% of all cancer cases, and affected over 2.1 Million people in 2015 alone. It starts when cells in the breast begin to grow out of control. These cells usually form tumors that can be seen via X-ray or felt as lumps in the breast area.\n",
    "\n",
    "The key challenges against it’s detection is how to classify tumors into malignant (cancerous) or benign(non cancerous). We ask you to complete the analysis of classifying these tumors using machine learning (with SVMs) and the Breast Cancer Wisconsin (Diagnostic) Dataset.\n",
    "\n",
    "**Acknowledgements:**\n",
    "This dataset has been referred from Kaggle.\n",
    "\n",
    "**Objective:**\n",
    "* Understand the Dataset & cleanup (if required).\n",
    "* Build classification models to predict whether the cancer type is Malignant or Benign.\n",
    "* Also fine-tune the hyperparameters & compare the evaluation metrics of various classification algorithms."
   ]
  },
  {
   "cell_type": "code",
   "execution_count": 40,
   "id": "4647fb10",
   "metadata": {},
   "outputs": [
    {
     "name": "stdout",
     "output_type": "stream",
     "text": [
      "Shape: (1202, 32)\n"
     ]
    },
    {
     "data": {
      "text/html": [
       "<div>\n",
       "<style scoped>\n",
       "    .dataframe tbody tr th:only-of-type {\n",
       "        vertical-align: middle;\n",
       "    }\n",
       "\n",
       "    .dataframe tbody tr th {\n",
       "        vertical-align: top;\n",
       "    }\n",
       "\n",
       "    .dataframe thead th {\n",
       "        text-align: right;\n",
       "    }\n",
       "</style>\n",
       "<table border=\"1\" class=\"dataframe\">\n",
       "  <thead>\n",
       "    <tr style=\"text-align: right;\">\n",
       "      <th></th>\n",
       "      <th>id</th>\n",
       "      <th>radius_mean</th>\n",
       "      <th>texture_mean</th>\n",
       "      <th>perimeter_mean</th>\n",
       "      <th>area_mean</th>\n",
       "      <th>smoothness_mean</th>\n",
       "      <th>compactness_mean</th>\n",
       "      <th>concavity_mean</th>\n",
       "      <th>concave_pts_mean</th>\n",
       "      <th>symmetry_mean</th>\n",
       "      <th>...</th>\n",
       "      <th>texture_worst</th>\n",
       "      <th>perimeter_worst</th>\n",
       "      <th>area_worst</th>\n",
       "      <th>smoothness_worst</th>\n",
       "      <th>compactness_worst</th>\n",
       "      <th>concavity_worst</th>\n",
       "      <th>concave_pts_worst</th>\n",
       "      <th>symmetry_worst</th>\n",
       "      <th>fractal_dim_worst</th>\n",
       "      <th>diagnostic</th>\n",
       "    </tr>\n",
       "  </thead>\n",
       "  <tbody>\n",
       "    <tr>\n",
       "      <th>0</th>\n",
       "      <td>561</td>\n",
       "      <td>20.47</td>\n",
       "      <td>20.67</td>\n",
       "      <td>134.70</td>\n",
       "      <td>1299.0</td>\n",
       "      <td>0.09156</td>\n",
       "      <td>0.13130</td>\n",
       "      <td>0.15230</td>\n",
       "      <td>0.10150</td>\n",
       "      <td>0.2166</td>\n",
       "      <td>...</td>\n",
       "      <td>27.15</td>\n",
       "      <td>152.00</td>\n",
       "      <td>1645.0</td>\n",
       "      <td>0.1097</td>\n",
       "      <td>0.25340</td>\n",
       "      <td>0.30920</td>\n",
       "      <td>0.16130</td>\n",
       "      <td>0.3220</td>\n",
       "      <td>0.06386</td>\n",
       "      <td>M</td>\n",
       "    </tr>\n",
       "    <tr>\n",
       "      <th>1</th>\n",
       "      <td>77</td>\n",
       "      <td>11.75</td>\n",
       "      <td>20.18</td>\n",
       "      <td>76.10</td>\n",
       "      <td>419.8</td>\n",
       "      <td>0.10890</td>\n",
       "      <td>0.11410</td>\n",
       "      <td>0.06843</td>\n",
       "      <td>0.03738</td>\n",
       "      <td>0.1993</td>\n",
       "      <td>...</td>\n",
       "      <td>26.21</td>\n",
       "      <td>88.91</td>\n",
       "      <td>543.9</td>\n",
       "      <td>0.1358</td>\n",
       "      <td>0.18920</td>\n",
       "      <td>0.19560</td>\n",
       "      <td>0.07909</td>\n",
       "      <td>0.3168</td>\n",
       "      <td>0.07987</td>\n",
       "      <td>B</td>\n",
       "    </tr>\n",
       "    <tr>\n",
       "      <th>2</th>\n",
       "      <td>151</td>\n",
       "      <td>13.77</td>\n",
       "      <td>13.27</td>\n",
       "      <td>88.06</td>\n",
       "      <td>582.7</td>\n",
       "      <td>0.09198</td>\n",
       "      <td>0.06221</td>\n",
       "      <td>0.01063</td>\n",
       "      <td>0.01917</td>\n",
       "      <td>0.1592</td>\n",
       "      <td>...</td>\n",
       "      <td>16.93</td>\n",
       "      <td>94.17</td>\n",
       "      <td>661.1</td>\n",
       "      <td>0.1170</td>\n",
       "      <td>0.10720</td>\n",
       "      <td>0.03732</td>\n",
       "      <td>0.05802</td>\n",
       "      <td>0.2823</td>\n",
       "      <td>0.06794</td>\n",
       "      <td>B</td>\n",
       "    </tr>\n",
       "    <tr>\n",
       "      <th>3</th>\n",
       "      <td>231</td>\n",
       "      <td>12.34</td>\n",
       "      <td>14.95</td>\n",
       "      <td>78.29</td>\n",
       "      <td>469.1</td>\n",
       "      <td>0.08682</td>\n",
       "      <td>0.04571</td>\n",
       "      <td>0.02109</td>\n",
       "      <td>0.02054</td>\n",
       "      <td>0.1571</td>\n",
       "      <td>...</td>\n",
       "      <td>16.85</td>\n",
       "      <td>84.11</td>\n",
       "      <td>533.1</td>\n",
       "      <td>0.1048</td>\n",
       "      <td>0.06744</td>\n",
       "      <td>0.04921</td>\n",
       "      <td>0.04793</td>\n",
       "      <td>0.2298</td>\n",
       "      <td>0.05974</td>\n",
       "      <td>B</td>\n",
       "    </tr>\n",
       "    <tr>\n",
       "      <th>4</th>\n",
       "      <td>410</td>\n",
       "      <td>13.80</td>\n",
       "      <td>15.79</td>\n",
       "      <td>90.43</td>\n",
       "      <td>584.1</td>\n",
       "      <td>0.10070</td>\n",
       "      <td>0.12800</td>\n",
       "      <td>0.07789</td>\n",
       "      <td>0.05069</td>\n",
       "      <td>0.1662</td>\n",
       "      <td>...</td>\n",
       "      <td>20.86</td>\n",
       "      <td>110.30</td>\n",
       "      <td>812.4</td>\n",
       "      <td>0.1411</td>\n",
       "      <td>0.35420</td>\n",
       "      <td>0.27790</td>\n",
       "      <td>0.13830</td>\n",
       "      <td>0.2589</td>\n",
       "      <td>0.10300</td>\n",
       "      <td>M</td>\n",
       "    </tr>\n",
       "  </tbody>\n",
       "</table>\n",
       "<p>5 rows × 32 columns</p>\n",
       "</div>"
      ],
      "text/plain": [
       "    id  radius_mean  texture_mean  perimeter_mean  area_mean  smoothness_mean  \\\n",
       "0  561        20.47         20.67          134.70     1299.0          0.09156   \n",
       "1   77        11.75         20.18           76.10      419.8          0.10890   \n",
       "2  151        13.77         13.27           88.06      582.7          0.09198   \n",
       "3  231        12.34         14.95           78.29      469.1          0.08682   \n",
       "4  410        13.80         15.79           90.43      584.1          0.10070   \n",
       "\n",
       "   compactness_mean  concavity_mean  concave_pts_mean  symmetry_mean  ...  \\\n",
       "0           0.13130         0.15230           0.10150         0.2166  ...   \n",
       "1           0.11410         0.06843           0.03738         0.1993  ...   \n",
       "2           0.06221         0.01063           0.01917         0.1592  ...   \n",
       "3           0.04571         0.02109           0.02054         0.1571  ...   \n",
       "4           0.12800         0.07789           0.05069         0.1662  ...   \n",
       "\n",
       "   texture_worst  perimeter_worst  area_worst  smoothness_worst  \\\n",
       "0          27.15           152.00      1645.0            0.1097   \n",
       "1          26.21            88.91       543.9            0.1358   \n",
       "2          16.93            94.17       661.1            0.1170   \n",
       "3          16.85            84.11       533.1            0.1048   \n",
       "4          20.86           110.30       812.4            0.1411   \n",
       "\n",
       "   compactness_worst  concavity_worst  concave_pts_worst  symmetry_worst  \\\n",
       "0            0.25340          0.30920            0.16130          0.3220   \n",
       "1            0.18920          0.19560            0.07909          0.3168   \n",
       "2            0.10720          0.03732            0.05802          0.2823   \n",
       "3            0.06744          0.04921            0.04793          0.2298   \n",
       "4            0.35420          0.27790            0.13830          0.2589   \n",
       "\n",
       "   fractal_dim_worst  diagnostic  \n",
       "0            0.06386           M  \n",
       "1            0.07987           B  \n",
       "2            0.06794           B  \n",
       "3            0.05974           B  \n",
       "4            0.10300           M  \n",
       "\n",
       "[5 rows x 32 columns]"
      ]
     },
     "execution_count": 40,
     "metadata": {},
     "output_type": "execute_result"
    }
   ],
   "source": [
    "df1 = pd.read_csv('data/dataset1.csv')\n",
    "print(\"Shape:\", df1.shape)\n",
    "df1.head(5)"
   ]
  },
  {
   "cell_type": "markdown",
   "id": "e32f3373",
   "metadata": {},
   "source": [
    "### Dataset 2\n",
    "\n",
    "[source](https://www.kaggle.com/code/a3amat02/breast-cancer-classification/input)\n",
    "\n",
    "**About this file**\n",
    "\n",
    "* y. The outcomes. A factor with two levels denoting whether a mass is malignant (\"M\") or benign (\"B\").\n",
    "* x. The predictors. A matrix with the mean, standard error and worst value of each of 10 nuclear measurements on the slide, for 30 total features per biopsy:\n",
    "* radius. Nucleus radius (mean of distances from center to points on perimeter).\n",
    "* texture. Nucleus texture (standard deviation of grayscale values).\n",
    "* perimeter. Nucleus perimeter.\n",
    "* area. Nucleus area.\n",
    "* smoothness. Nucleus smoothness (local variation in radius lengths).\n",
    "* compactness. Nucleus compactness (perimeter^2/area - 1).\n",
    "* concavity, Nucleus concavity (severity of concave portions of the contour).\n",
    "* concave_pts. Number of concave portions of the nucleus contour.\n",
    "* symmetry. Nucleus symmetry.\n",
    "* fractal_dim. Nucleus fractal dimension (\"coastline approximation\" -1)."
   ]
  },
  {
   "cell_type": "code",
   "execution_count": 41,
   "id": "324d6157",
   "metadata": {},
   "outputs": [
    {
     "name": "stdout",
     "output_type": "stream",
     "text": [
      "Shape: (1193, 32)\n"
     ]
    },
    {
     "data": {
      "text/html": [
       "<div>\n",
       "<style scoped>\n",
       "    .dataframe tbody tr th:only-of-type {\n",
       "        vertical-align: middle;\n",
       "    }\n",
       "\n",
       "    .dataframe tbody tr th {\n",
       "        vertical-align: top;\n",
       "    }\n",
       "\n",
       "    .dataframe thead th {\n",
       "        text-align: right;\n",
       "    }\n",
       "</style>\n",
       "<table border=\"1\" class=\"dataframe\">\n",
       "  <thead>\n",
       "    <tr style=\"text-align: right;\">\n",
       "      <th></th>\n",
       "      <th>id</th>\n",
       "      <th>radius_mean</th>\n",
       "      <th>texture_mean</th>\n",
       "      <th>perimeter_mean</th>\n",
       "      <th>area_mean</th>\n",
       "      <th>smoothness_mean</th>\n",
       "      <th>compactness_mean</th>\n",
       "      <th>concavity_mean</th>\n",
       "      <th>concave_pts_mean</th>\n",
       "      <th>symmetry_mean</th>\n",
       "      <th>...</th>\n",
       "      <th>texture_worst</th>\n",
       "      <th>perimeter_worst</th>\n",
       "      <th>area_worst</th>\n",
       "      <th>smoothness_worst</th>\n",
       "      <th>compactness_worst</th>\n",
       "      <th>concavity_worst</th>\n",
       "      <th>concave_pts_worst</th>\n",
       "      <th>symmetry_worst</th>\n",
       "      <th>fractal_dim_worst</th>\n",
       "      <th>diagnostic</th>\n",
       "    </tr>\n",
       "  </thead>\n",
       "  <tbody>\n",
       "    <tr>\n",
       "      <th>0</th>\n",
       "      <td>374</td>\n",
       "      <td>14.68</td>\n",
       "      <td>20.13</td>\n",
       "      <td>94.74</td>\n",
       "      <td>684.5</td>\n",
       "      <td>0.09867</td>\n",
       "      <td>0.07200</td>\n",
       "      <td>0.073950</td>\n",
       "      <td>0.052590</td>\n",
       "      <td>0.1586</td>\n",
       "      <td>...</td>\n",
       "      <td>30.88</td>\n",
       "      <td>123.40</td>\n",
       "      <td>1138.0</td>\n",
       "      <td>0.14640</td>\n",
       "      <td>0.18710</td>\n",
       "      <td>0.29140</td>\n",
       "      <td>0.16090</td>\n",
       "      <td>0.3029</td>\n",
       "      <td>0.08216</td>\n",
       "      <td>M</td>\n",
       "    </tr>\n",
       "    <tr>\n",
       "      <th>1</th>\n",
       "      <td>325</td>\n",
       "      <td>12.34</td>\n",
       "      <td>12.27</td>\n",
       "      <td>78.94</td>\n",
       "      <td>468.5</td>\n",
       "      <td>0.09003</td>\n",
       "      <td>0.06307</td>\n",
       "      <td>0.029580</td>\n",
       "      <td>0.026470</td>\n",
       "      <td>0.1689</td>\n",
       "      <td>...</td>\n",
       "      <td>19.27</td>\n",
       "      <td>87.22</td>\n",
       "      <td>564.9</td>\n",
       "      <td>0.12920</td>\n",
       "      <td>0.20740</td>\n",
       "      <td>0.17910</td>\n",
       "      <td>0.10700</td>\n",
       "      <td>0.3110</td>\n",
       "      <td>0.07592</td>\n",
       "      <td>B</td>\n",
       "    </tr>\n",
       "    <tr>\n",
       "      <th>2</th>\n",
       "      <td>359</td>\n",
       "      <td>20.57</td>\n",
       "      <td>17.77</td>\n",
       "      <td>132.90</td>\n",
       "      <td>1326.0</td>\n",
       "      <td>0.08474</td>\n",
       "      <td>0.07864</td>\n",
       "      <td>0.086900</td>\n",
       "      <td>0.070170</td>\n",
       "      <td>0.1812</td>\n",
       "      <td>...</td>\n",
       "      <td>23.41</td>\n",
       "      <td>158.80</td>\n",
       "      <td>1956.0</td>\n",
       "      <td>0.12380</td>\n",
       "      <td>0.18660</td>\n",
       "      <td>0.24160</td>\n",
       "      <td>0.18600</td>\n",
       "      <td>0.2750</td>\n",
       "      <td>0.08902</td>\n",
       "      <td>M</td>\n",
       "    </tr>\n",
       "    <tr>\n",
       "      <th>3</th>\n",
       "      <td>264</td>\n",
       "      <td>14.80</td>\n",
       "      <td>17.66</td>\n",
       "      <td>95.88</td>\n",
       "      <td>674.8</td>\n",
       "      <td>0.09179</td>\n",
       "      <td>0.08890</td>\n",
       "      <td>0.040690</td>\n",
       "      <td>0.022600</td>\n",
       "      <td>0.1893</td>\n",
       "      <td>...</td>\n",
       "      <td>22.74</td>\n",
       "      <td>105.90</td>\n",
       "      <td>829.5</td>\n",
       "      <td>0.12260</td>\n",
       "      <td>0.18810</td>\n",
       "      <td>0.20600</td>\n",
       "      <td>0.08308</td>\n",
       "      <td>0.3600</td>\n",
       "      <td>0.07285</td>\n",
       "      <td>B</td>\n",
       "    </tr>\n",
       "    <tr>\n",
       "      <th>4</th>\n",
       "      <td>161</td>\n",
       "      <td>13.50</td>\n",
       "      <td>12.71</td>\n",
       "      <td>85.69</td>\n",
       "      <td>566.2</td>\n",
       "      <td>0.07376</td>\n",
       "      <td>0.03614</td>\n",
       "      <td>0.002758</td>\n",
       "      <td>0.004419</td>\n",
       "      <td>0.1365</td>\n",
       "      <td>...</td>\n",
       "      <td>16.94</td>\n",
       "      <td>95.48</td>\n",
       "      <td>698.7</td>\n",
       "      <td>0.09023</td>\n",
       "      <td>0.05836</td>\n",
       "      <td>0.01379</td>\n",
       "      <td>0.02210</td>\n",
       "      <td>0.2267</td>\n",
       "      <td>0.06192</td>\n",
       "      <td>B</td>\n",
       "    </tr>\n",
       "  </tbody>\n",
       "</table>\n",
       "<p>5 rows × 32 columns</p>\n",
       "</div>"
      ],
      "text/plain": [
       "    id  radius_mean  texture_mean  perimeter_mean  area_mean  smoothness_mean  \\\n",
       "0  374        14.68         20.13           94.74      684.5          0.09867   \n",
       "1  325        12.34         12.27           78.94      468.5          0.09003   \n",
       "2  359        20.57         17.77          132.90     1326.0          0.08474   \n",
       "3  264        14.80         17.66           95.88      674.8          0.09179   \n",
       "4  161        13.50         12.71           85.69      566.2          0.07376   \n",
       "\n",
       "   compactness_mean  concavity_mean  concave_pts_mean  symmetry_mean  ...  \\\n",
       "0           0.07200        0.073950          0.052590         0.1586  ...   \n",
       "1           0.06307        0.029580          0.026470         0.1689  ...   \n",
       "2           0.07864        0.086900          0.070170         0.1812  ...   \n",
       "3           0.08890        0.040690          0.022600         0.1893  ...   \n",
       "4           0.03614        0.002758          0.004419         0.1365  ...   \n",
       "\n",
       "   texture_worst  perimeter_worst  area_worst  smoothness_worst  \\\n",
       "0          30.88           123.40      1138.0           0.14640   \n",
       "1          19.27            87.22       564.9           0.12920   \n",
       "2          23.41           158.80      1956.0           0.12380   \n",
       "3          22.74           105.90       829.5           0.12260   \n",
       "4          16.94            95.48       698.7           0.09023   \n",
       "\n",
       "   compactness_worst  concavity_worst  concave_pts_worst  symmetry_worst  \\\n",
       "0            0.18710          0.29140            0.16090          0.3029   \n",
       "1            0.20740          0.17910            0.10700          0.3110   \n",
       "2            0.18660          0.24160            0.18600          0.2750   \n",
       "3            0.18810          0.20600            0.08308          0.3600   \n",
       "4            0.05836          0.01379            0.02210          0.2267   \n",
       "\n",
       "   fractal_dim_worst  diagnostic  \n",
       "0            0.08216           M  \n",
       "1            0.07592           B  \n",
       "2            0.08902           M  \n",
       "3            0.07285           B  \n",
       "4            0.06192           B  \n",
       "\n",
       "[5 rows x 32 columns]"
      ]
     },
     "execution_count": 41,
     "metadata": {},
     "output_type": "execute_result"
    }
   ],
   "source": [
    "df2 = pd.read_csv('data/dataset2.csv')\n",
    "print(\"Shape:\", df2.shape)\n",
    "df2.head(5)"
   ]
  },
  {
   "cell_type": "markdown",
   "id": "2ebe8356",
   "metadata": {},
   "source": [
    "### Dataset 3\n",
    "\n",
    "[source](https://archive.ics.uci.edu/ml/datasets/Breast+Cancer+Wisconsin+(Diagnostic))\n",
    "\n",
    "**Data Set Information:**\n",
    "\n",
    "Features are computed from a digitized image of a fine needle aspirate (FNA) of a breast mass. They describe characteristics of the cell nuclei present in the image. A few of the images can be found at [Web Link]\n",
    "\n",
    "Separating plane described above was obtained using Multisurface Method-Tree (MSM-T) [K. P. Bennett, \"Decision Tree Construction Via Linear Programming.\" Proceedings of the 4th Midwest Artificial Intelligence and Cognitive Science Society, pp. 97-101, 1992], a classification method which uses linear programming to construct a decision tree. Relevant features were selected using an exhaustive search in the space of 1-4 features and 1-3 separating planes.\n",
    "\n",
    "The actual linear program used to obtain the separating plane in the 3-dimensional space is that described in: [K. P. Bennett and O. L. Mangasarian: \"Robust Linear Programming Discrimination of Two Linearly Inseparable Sets\", Optimization Methods and Software 1, 1992, 23-34].\n",
    "\n",
    "This database is also available through the UW CS ftp server:\n",
    "ftp ftp.cs.wisc.edu\n",
    "cd math-prog/cpo-dataset/machine-learn/WDBC/\n",
    "\n",
    "\n",
    "**Attribute Information:**\n",
    "\n",
    "1) ID number\n",
    "\n",
    "2) Diagnosis (M = malignant, B = benign)\n",
    "\n",
    "3-32)\n",
    "\n",
    "Ten real-valued features are computed for each cell nucleus:\n",
    "\n",
    "a) radius (mean of distances from center to points on the perimeter)\n",
    "\n",
    "b) texture (standard deviation of gray-scale values)\n",
    "\n",
    "c) perimeter\n",
    "\n",
    "d) area\n",
    "\n",
    "e) smoothness (local variation in radius lengths)\n",
    "\n",
    "f) compactness (perimeter^2 / area - 1.0)\n",
    "\n",
    "g) concavity (severity of concave portions of the contour)\n",
    "\n",
    "h) concave points (number of concave portions of the contour)\n",
    "\n",
    "i) symmetry\n",
    "\n",
    "j) fractal dimension (\"coastline approximation\" - 1)"
   ]
  },
  {
   "cell_type": "code",
   "execution_count": 42,
   "id": "acb6ee1b",
   "metadata": {
    "scrolled": true
   },
   "outputs": [
    {
     "name": "stdout",
     "output_type": "stream",
     "text": [
      "Shape: (1189, 32)\n"
     ]
    },
    {
     "data": {
      "text/html": [
       "<div>\n",
       "<style scoped>\n",
       "    .dataframe tbody tr th:only-of-type {\n",
       "        vertical-align: middle;\n",
       "    }\n",
       "\n",
       "    .dataframe tbody tr th {\n",
       "        vertical-align: top;\n",
       "    }\n",
       "\n",
       "    .dataframe thead th {\n",
       "        text-align: right;\n",
       "    }\n",
       "</style>\n",
       "<table border=\"1\" class=\"dataframe\">\n",
       "  <thead>\n",
       "    <tr style=\"text-align: right;\">\n",
       "      <th></th>\n",
       "      <th>id</th>\n",
       "      <th>radius_mean</th>\n",
       "      <th>texture_mean</th>\n",
       "      <th>perimeter_mean</th>\n",
       "      <th>area_mean</th>\n",
       "      <th>smoothness_mean</th>\n",
       "      <th>compactness_mean</th>\n",
       "      <th>concavity_mean</th>\n",
       "      <th>concave_pts_mean</th>\n",
       "      <th>symmetry_mean</th>\n",
       "      <th>...</th>\n",
       "      <th>texture_worst</th>\n",
       "      <th>perimeter_worst</th>\n",
       "      <th>area_worst</th>\n",
       "      <th>smoothness_worst</th>\n",
       "      <th>compactness_worst</th>\n",
       "      <th>concavity_worst</th>\n",
       "      <th>concave_pts_worst</th>\n",
       "      <th>symmetry_worst</th>\n",
       "      <th>fractal_dim_worst</th>\n",
       "      <th>diagnostic</th>\n",
       "    </tr>\n",
       "  </thead>\n",
       "  <tbody>\n",
       "    <tr>\n",
       "      <th>0</th>\n",
       "      <td>529</td>\n",
       "      <td>15.49</td>\n",
       "      <td>19.97</td>\n",
       "      <td>102.40</td>\n",
       "      <td>744.7</td>\n",
       "      <td>0.11600</td>\n",
       "      <td>0.15620</td>\n",
       "      <td>0.18910</td>\n",
       "      <td>0.09113</td>\n",
       "      <td>0.1929</td>\n",
       "      <td>...</td>\n",
       "      <td>29.41</td>\n",
       "      <td>142.10</td>\n",
       "      <td>1359.0</td>\n",
       "      <td>0.1681</td>\n",
       "      <td>0.3913</td>\n",
       "      <td>0.55530</td>\n",
       "      <td>0.21210</td>\n",
       "      <td>0.3187</td>\n",
       "      <td>0.10190</td>\n",
       "      <td>M</td>\n",
       "    </tr>\n",
       "    <tr>\n",
       "      <th>1</th>\n",
       "      <td>365</td>\n",
       "      <td>13.71</td>\n",
       "      <td>20.83</td>\n",
       "      <td>90.20</td>\n",
       "      <td>577.9</td>\n",
       "      <td>0.11890</td>\n",
       "      <td>0.16450</td>\n",
       "      <td>0.09366</td>\n",
       "      <td>0.05985</td>\n",
       "      <td>0.2196</td>\n",
       "      <td>...</td>\n",
       "      <td>28.14</td>\n",
       "      <td>110.60</td>\n",
       "      <td>897.0</td>\n",
       "      <td>0.1654</td>\n",
       "      <td>0.3682</td>\n",
       "      <td>0.26780</td>\n",
       "      <td>0.15560</td>\n",
       "      <td>0.3196</td>\n",
       "      <td>0.11510</td>\n",
       "      <td>M</td>\n",
       "    </tr>\n",
       "    <tr>\n",
       "      <th>2</th>\n",
       "      <td>447</td>\n",
       "      <td>13.43</td>\n",
       "      <td>19.63</td>\n",
       "      <td>85.84</td>\n",
       "      <td>565.4</td>\n",
       "      <td>0.09048</td>\n",
       "      <td>0.06288</td>\n",
       "      <td>0.05858</td>\n",
       "      <td>0.03438</td>\n",
       "      <td>0.1598</td>\n",
       "      <td>...</td>\n",
       "      <td>29.87</td>\n",
       "      <td>116.60</td>\n",
       "      <td>993.6</td>\n",
       "      <td>0.1401</td>\n",
       "      <td>0.1546</td>\n",
       "      <td>0.26440</td>\n",
       "      <td>0.11600</td>\n",
       "      <td>0.2884</td>\n",
       "      <td>0.07371</td>\n",
       "      <td>M</td>\n",
       "    </tr>\n",
       "    <tr>\n",
       "      <th>3</th>\n",
       "      <td>347</td>\n",
       "      <td>12.77</td>\n",
       "      <td>29.43</td>\n",
       "      <td>81.35</td>\n",
       "      <td>507.9</td>\n",
       "      <td>0.08276</td>\n",
       "      <td>0.04234</td>\n",
       "      <td>0.01997</td>\n",
       "      <td>0.01499</td>\n",
       "      <td>0.1539</td>\n",
       "      <td>...</td>\n",
       "      <td>36.00</td>\n",
       "      <td>88.10</td>\n",
       "      <td>594.7</td>\n",
       "      <td>0.1234</td>\n",
       "      <td>0.1064</td>\n",
       "      <td>0.08653</td>\n",
       "      <td>0.06498</td>\n",
       "      <td>0.2407</td>\n",
       "      <td>0.06484</td>\n",
       "      <td>B</td>\n",
       "    </tr>\n",
       "    <tr>\n",
       "      <th>4</th>\n",
       "      <td>27</td>\n",
       "      <td>12.00</td>\n",
       "      <td>15.65</td>\n",
       "      <td>76.95</td>\n",
       "      <td>443.3</td>\n",
       "      <td>0.09723</td>\n",
       "      <td>0.07165</td>\n",
       "      <td>0.04151</td>\n",
       "      <td>0.01863</td>\n",
       "      <td>0.2079</td>\n",
       "      <td>...</td>\n",
       "      <td>24.90</td>\n",
       "      <td>87.78</td>\n",
       "      <td>567.9</td>\n",
       "      <td>0.1377</td>\n",
       "      <td>0.2003</td>\n",
       "      <td>0.22670</td>\n",
       "      <td>0.07632</td>\n",
       "      <td>0.3379</td>\n",
       "      <td>0.07924</td>\n",
       "      <td>B</td>\n",
       "    </tr>\n",
       "  </tbody>\n",
       "</table>\n",
       "<p>5 rows × 32 columns</p>\n",
       "</div>"
      ],
      "text/plain": [
       "    id  radius_mean  texture_mean  perimeter_mean  area_mean  smoothness_mean  \\\n",
       "0  529        15.49         19.97          102.40      744.7          0.11600   \n",
       "1  365        13.71         20.83           90.20      577.9          0.11890   \n",
       "2  447        13.43         19.63           85.84      565.4          0.09048   \n",
       "3  347        12.77         29.43           81.35      507.9          0.08276   \n",
       "4   27        12.00         15.65           76.95      443.3          0.09723   \n",
       "\n",
       "   compactness_mean  concavity_mean  concave_pts_mean  symmetry_mean  ...  \\\n",
       "0           0.15620         0.18910           0.09113         0.1929  ...   \n",
       "1           0.16450         0.09366           0.05985         0.2196  ...   \n",
       "2           0.06288         0.05858           0.03438         0.1598  ...   \n",
       "3           0.04234         0.01997           0.01499         0.1539  ...   \n",
       "4           0.07165         0.04151           0.01863         0.2079  ...   \n",
       "\n",
       "   texture_worst  perimeter_worst  area_worst  smoothness_worst  \\\n",
       "0          29.41           142.10      1359.0            0.1681   \n",
       "1          28.14           110.60       897.0            0.1654   \n",
       "2          29.87           116.60       993.6            0.1401   \n",
       "3          36.00            88.10       594.7            0.1234   \n",
       "4          24.90            87.78       567.9            0.1377   \n",
       "\n",
       "   compactness_worst  concavity_worst  concave_pts_worst  symmetry_worst  \\\n",
       "0             0.3913          0.55530            0.21210          0.3187   \n",
       "1             0.3682          0.26780            0.15560          0.3196   \n",
       "2             0.1546          0.26440            0.11600          0.2884   \n",
       "3             0.1064          0.08653            0.06498          0.2407   \n",
       "4             0.2003          0.22670            0.07632          0.3379   \n",
       "\n",
       "   fractal_dim_worst  diagnostic  \n",
       "0            0.10190           M  \n",
       "1            0.11510           M  \n",
       "2            0.07371           M  \n",
       "3            0.06484           B  \n",
       "4            0.07924           B  \n",
       "\n",
       "[5 rows x 32 columns]"
      ]
     },
     "execution_count": 42,
     "metadata": {},
     "output_type": "execute_result"
    }
   ],
   "source": [
    "df3 = pd.read_csv('data/dataset3.csv')\n",
    "print(\"Shape:\", df3.shape)\n",
    "df3.head(5)"
   ]
  },
  {
   "cell_type": "markdown",
   "id": "fbc06478",
   "metadata": {},
   "source": [
    "In this demo, there are 3 hospitals (with corresponding datasets above) but there could be more hospitals. The 3 hospitals cannot share the cases of their patients because they are competitors and it is necessary to protect the privacy of patients. Hence, the ML model will be learned in a federated way."
   ]
  },
  {
   "cell_type": "markdown",
   "id": "9eceeb3f",
   "metadata": {},
   "source": [
    "## Clients"
   ]
  },
  {
   "cell_type": "markdown",
   "id": "7b814944",
   "metadata": {},
   "source": [
    "Import openFHE library. Then run `generate_key()`, this is just a python wrapper to run `openfhe-lib/build/key_gen`. After running this files, it will create `openfhe-lib/data` folder that holds:\n",
    "- `crypto_context.txt` : contain CKKS CryptoContext object\n",
    "- `public_key.txt`     : contain CKKS public key\n",
    "- `private_key.txt`    : contain CKKS private key\n",
    "- `mult_key.txt`       : contain CKKS multiplication key"
   ]
  },
  {
   "cell_type": "code",
   "execution_count": 43,
   "id": "c90acd04",
   "metadata": {},
   "outputs": [
    {
     "ename": "OSError",
     "evalue": "[WinError 193] %1 is not a valid Win32 application",
     "output_type": "error",
     "traceback": [
      "\u001b[1;31m---------------------------------------------------------------------------\u001b[0m",
      "\u001b[1;31mOSError\u001b[0m                                   Traceback (most recent call last)",
      "Cell \u001b[1;32mIn[43], line 4\u001b[0m\n\u001b[0;32m      1\u001b[0m \u001b[39mfrom\u001b[39;00m \u001b[39mopenfhe_lib\u001b[39;00m\u001b[39m.\u001b[39;00m\u001b[39mckks\u001b[39;00m\u001b[39m.\u001b[39;00m\u001b[39mopenFHE\u001b[39;00m \u001b[39mimport\u001b[39;00m \u001b[39m*\u001b[39m \n\u001b[0;32m      3\u001b[0m \u001b[39m# === Generate Key-pairs of CKKS Context ===\u001b[39;00m\n\u001b[1;32m----> 4\u001b[0m generate_keys()\n",
      "File \u001b[1;32mc:\\Users\\ayoub\\OneDrive\\Bureau\\ahlemfederated\\homorphicencryption\\fedratedd\\fedlearning\\openfhe_lib\\ckks\\openFHE.py:15\u001b[0m, in \u001b[0;36mgenerate_keys\u001b[1;34m()\u001b[0m\n\u001b[0;32m      7\u001b[0m \u001b[39mdef\u001b[39;00m \u001b[39mgenerate_keys\u001b[39m():\n\u001b[0;32m      8\u001b[0m \u001b[39m    \u001b[39m\u001b[39m\"\"\" Just a python wrapper to run ./build/key_gen. After running this files, it will\u001b[39;00m\n\u001b[0;32m      9\u001b[0m \u001b[39m        create `./data` folders that holds:\u001b[39;00m\n\u001b[0;32m     10\u001b[0m \u001b[39m        - `crypto_context.txt` : contain CKKS CryptoContext object\u001b[39;00m\n\u001b[1;32m   (...)\u001b[0m\n\u001b[0;32m     13\u001b[0m \u001b[39m        - `mult_key.txt`       : contain CKKS multiplication key\u001b[39;00m\n\u001b[0;32m     14\u001b[0m \u001b[39m    \"\"\"\u001b[39;00m\n\u001b[1;32m---> 15\u001b[0m     subprocess\u001b[39m.\u001b[39;49mrun(\u001b[39mf\u001b[39;49m\u001b[39m\"\u001b[39;49m\u001b[39m{\u001b[39;49;00mcwd\u001b[39m}\u001b[39;49;00m\u001b[39m/build/key_generation\u001b[39;49m\u001b[39m\"\u001b[39;49m)\n",
      "File \u001b[1;32m~\\AppData\\Local\\Programs\\Python\\Python311\\Lib\\subprocess.py:548\u001b[0m, in \u001b[0;36mrun\u001b[1;34m(input, capture_output, timeout, check, *popenargs, **kwargs)\u001b[0m\n\u001b[0;32m    545\u001b[0m     kwargs[\u001b[39m'\u001b[39m\u001b[39mstdout\u001b[39m\u001b[39m'\u001b[39m] \u001b[39m=\u001b[39m PIPE\n\u001b[0;32m    546\u001b[0m     kwargs[\u001b[39m'\u001b[39m\u001b[39mstderr\u001b[39m\u001b[39m'\u001b[39m] \u001b[39m=\u001b[39m PIPE\n\u001b[1;32m--> 548\u001b[0m \u001b[39mwith\u001b[39;00m Popen(\u001b[39m*\u001b[39;49mpopenargs, \u001b[39m*\u001b[39;49m\u001b[39m*\u001b[39;49mkwargs) \u001b[39mas\u001b[39;00m process:\n\u001b[0;32m    549\u001b[0m     \u001b[39mtry\u001b[39;00m:\n\u001b[0;32m    550\u001b[0m         stdout, stderr \u001b[39m=\u001b[39m process\u001b[39m.\u001b[39mcommunicate(\u001b[39minput\u001b[39m, timeout\u001b[39m=\u001b[39mtimeout)\n",
      "File \u001b[1;32m~\\AppData\\Local\\Programs\\Python\\Python311\\Lib\\subprocess.py:1024\u001b[0m, in \u001b[0;36mPopen.__init__\u001b[1;34m(self, args, bufsize, executable, stdin, stdout, stderr, preexec_fn, close_fds, shell, cwd, env, universal_newlines, startupinfo, creationflags, restore_signals, start_new_session, pass_fds, user, group, extra_groups, encoding, errors, text, umask, pipesize, process_group)\u001b[0m\n\u001b[0;32m   1020\u001b[0m         \u001b[39mif\u001b[39;00m \u001b[39mself\u001b[39m\u001b[39m.\u001b[39mtext_mode:\n\u001b[0;32m   1021\u001b[0m             \u001b[39mself\u001b[39m\u001b[39m.\u001b[39mstderr \u001b[39m=\u001b[39m io\u001b[39m.\u001b[39mTextIOWrapper(\u001b[39mself\u001b[39m\u001b[39m.\u001b[39mstderr,\n\u001b[0;32m   1022\u001b[0m                     encoding\u001b[39m=\u001b[39mencoding, errors\u001b[39m=\u001b[39merrors)\n\u001b[1;32m-> 1024\u001b[0m     \u001b[39mself\u001b[39;49m\u001b[39m.\u001b[39;49m_execute_child(args, executable, preexec_fn, close_fds,\n\u001b[0;32m   1025\u001b[0m                         pass_fds, cwd, env,\n\u001b[0;32m   1026\u001b[0m                         startupinfo, creationflags, shell,\n\u001b[0;32m   1027\u001b[0m                         p2cread, p2cwrite,\n\u001b[0;32m   1028\u001b[0m                         c2pread, c2pwrite,\n\u001b[0;32m   1029\u001b[0m                         errread, errwrite,\n\u001b[0;32m   1030\u001b[0m                         restore_signals,\n\u001b[0;32m   1031\u001b[0m                         gid, gids, uid, umask,\n\u001b[0;32m   1032\u001b[0m                         start_new_session, process_group)\n\u001b[0;32m   1033\u001b[0m \u001b[39mexcept\u001b[39;00m:\n\u001b[0;32m   1034\u001b[0m     \u001b[39m# Cleanup if the child failed starting.\u001b[39;00m\n\u001b[0;32m   1035\u001b[0m     \u001b[39mfor\u001b[39;00m f \u001b[39min\u001b[39;00m \u001b[39mfilter\u001b[39m(\u001b[39mNone\u001b[39;00m, (\u001b[39mself\u001b[39m\u001b[39m.\u001b[39mstdin, \u001b[39mself\u001b[39m\u001b[39m.\u001b[39mstdout, \u001b[39mself\u001b[39m\u001b[39m.\u001b[39mstderr)):\n",
      "File \u001b[1;32m~\\AppData\\Local\\Programs\\Python\\Python311\\Lib\\subprocess.py:1493\u001b[0m, in \u001b[0;36mPopen._execute_child\u001b[1;34m(self, args, executable, preexec_fn, close_fds, pass_fds, cwd, env, startupinfo, creationflags, shell, p2cread, p2cwrite, c2pread, c2pwrite, errread, errwrite, unused_restore_signals, unused_gid, unused_gids, unused_uid, unused_umask, unused_start_new_session, unused_process_group)\u001b[0m\n\u001b[0;32m   1491\u001b[0m \u001b[39m# Start the process\u001b[39;00m\n\u001b[0;32m   1492\u001b[0m \u001b[39mtry\u001b[39;00m:\n\u001b[1;32m-> 1493\u001b[0m     hp, ht, pid, tid \u001b[39m=\u001b[39m _winapi\u001b[39m.\u001b[39;49mCreateProcess(executable, args,\n\u001b[0;32m   1494\u001b[0m                              \u001b[39m# no special security\u001b[39;49;00m\n\u001b[0;32m   1495\u001b[0m                              \u001b[39mNone\u001b[39;49;00m, \u001b[39mNone\u001b[39;49;00m,\n\u001b[0;32m   1496\u001b[0m                              \u001b[39mint\u001b[39;49m(\u001b[39mnot\u001b[39;49;00m close_fds),\n\u001b[0;32m   1497\u001b[0m                              creationflags,\n\u001b[0;32m   1498\u001b[0m                              env,\n\u001b[0;32m   1499\u001b[0m                              cwd,\n\u001b[0;32m   1500\u001b[0m                              startupinfo)\n\u001b[0;32m   1501\u001b[0m \u001b[39mfinally\u001b[39;00m:\n\u001b[0;32m   1502\u001b[0m     \u001b[39m# Child is launched. Close the parent's copy of those pipe\u001b[39;00m\n\u001b[0;32m   1503\u001b[0m     \u001b[39m# handles that only the child should have open.  You need\u001b[39;00m\n\u001b[1;32m   (...)\u001b[0m\n\u001b[0;32m   1506\u001b[0m     \u001b[39m# pipe will not close when the child process exits and the\u001b[39;00m\n\u001b[0;32m   1507\u001b[0m     \u001b[39m# ReadFile will hang.\u001b[39;00m\n\u001b[0;32m   1508\u001b[0m     \u001b[39mself\u001b[39m\u001b[39m.\u001b[39m_close_pipe_fds(p2cread, p2cwrite,\n\u001b[0;32m   1509\u001b[0m                          c2pread, c2pwrite,\n\u001b[0;32m   1510\u001b[0m                          errread, errwrite)\n",
      "\u001b[1;31mOSError\u001b[0m: [WinError 193] %1 is not a valid Win32 application"
     ]
    }
   ],
   "source": [
    "from openfhe_lib.ckks.openFHE import * \n",
    "\n",
    "# === Generate Key-pairs of CKKS Context ===\n",
    "generate_keys()"
   ]
  },
  {
   "cell_type": "markdown",
   "id": "7efbea12",
   "metadata": {},
   "source": [
    "First, we start by creating the `Client` class that simulate the computers of each hospital. This just rewrite the Logistic Regression process that we have implemented previously."
   ]
  },
  {
   "cell_type": "code",
   "execution_count": 44,
   "id": "00ea04a3",
   "metadata": {},
   "outputs": [],
   "source": [
    "class Client:\n",
    "    def __init__(self, name, data_url, enc_file, n_features, iters):\n",
    "        self.id = name\n",
    "        self.enc_file = enc_file  # place wher clients save encrypted weights\n",
    "        \n",
    "        # split data into train and test\n",
    "        self.X_train, self.Y_train, self.X_test, self.Y_test = self.preprocessing(data_url)\n",
    "        \n",
    "        # define local training model\n",
    "        self.local_model = LogisticRegression(n_features)\n",
    "        \n",
    "        # some helpfull stuffs\n",
    "        self.decide_vectorized = np.vectorize(self.decide)\n",
    "        self.to_percent = lambda x: '{:.2f}%'.format(x)\n",
    "        self.num_epochs = iters\n",
    "        self.accuracies = []\n",
    "        self.losses = []\n",
    "        \n",
    "    def preprocessing(self, data_url):\n",
    "        df = pd.read_csv(data_url)\n",
    "        # Replace \"M\" with 1 and \"B\" with 0 at \"diagnostic\" column\n",
    "        df[\"diagnostic\"] = (df[\"diagnostic\"] == \"M\").astype(int)\n",
    "        \n",
    "        # split dataframe to train and test df\n",
    "        df_train, df_test = np.split(df.sample(frac=1), [int(0.8 * len(df))])\n",
    "        \n",
    "        # scaling and convert to tensor context\n",
    "        train, X_train, Y_train = scale_dataset(df_train, True)\n",
    "        test , X_test , Y_test  = scale_dataset(df_test , False)\n",
    "        return X_train, Y_train, X_test, Y_test\n",
    "    \n",
    "    def decide(self, y):\n",
    "        return 1. if y >= 0.5 else 0.\n",
    "    \n",
    "    def compute_accuracy(self, input, output):\n",
    "        prediction = self.local_model(input).data.numpy()[:, 0]\n",
    "        n_samples = prediction.shape[0] + 0.\n",
    "        prediction = self.decide_vectorized(prediction)\n",
    "        equal = prediction == output.data.numpy()\n",
    "        return 100. * equal.sum() / n_samples\n",
    "    \n",
    "    def local_training(self, debug=True):\n",
    "        n_samples, _ = self.X_train.shape\n",
    "\n",
    "        # define criterion function and set up optimizer\n",
    "        criterion = torch.nn.BCELoss(reduction='mean')\n",
    "        optimizer = torch.optim.SGD(self.local_model.parameters(), lr=0.01)  \n",
    "\n",
    "        # main process\n",
    "        for epoch in range(self.num_epochs):  \n",
    "            optimizer.zero_grad()\n",
    "            #### Compute outputs ####\n",
    "            prediction = self.local_model(self.X_train)\n",
    "\n",
    "            #### Compute gradients ####\n",
    "            loss = criterion(prediction.squeeze(), self.Y_train)\n",
    "            loss.backward()\n",
    "\n",
    "            #### Update weights #### \n",
    "            optimizer.step()\n",
    "\n",
    "            # compute accuracy and loss\n",
    "            train_acc = self.compute_accuracy(self.X_train, self.Y_train)\n",
    "            train_loss = loss.item()\n",
    "                \n",
    "            self.losses.append(train_loss)\n",
    "            self.accuracies.append(train_acc)\n",
    "        \n",
    "            #### Logging ####\n",
    "            if debug and (epoch + 1)%50 == 0:\n",
    "                print('[LOG] Epoch: %05d' % (epoch + 1), end=\"\")\n",
    "                print('    | Train ACC: %s' % self.to_percent(train_acc), end=\"\")\n",
    "                print('    | Loss: %.3f' % train_loss)\n",
    "    \n",
    "    def encrypted_model_params(self):\n",
    "        model_weights = self.local_model.linear.weight.data.squeeze().tolist()\n",
    "        model_bias    = self.local_model.linear.bias.data.squeeze().tolist()\n",
    "        \n",
    "        model_params  = model_weights + [model_bias]\n",
    "        encrypt_weights(model_params, self.enc_file)\n",
    "        \n",
    "    def decrypted_model_params(self):\n",
    "        params = decrypt_weights(\"/enc_aggregator_weight_server.txt\")\n",
    "        # convert float to tensor context\n",
    "        W = Variable(torch.tensor([params[:-1]], dtype = torch.float32))\n",
    "        B = Variable(torch.tensor( params[-1], dtype = torch.float32))\n",
    "        \n",
    "        self.local_model.linear.weight = nn.Parameter(W)\n",
    "        self.local_model.linear.bias   = nn.Parameter(B)\n",
    "    \n",
    "    def plot_graphs(self, diagnosis_title = 'Breast cancer'):\n",
    "        plt.plot(self.losses)\n",
    "        plt.title(f\"{diagnosis_title} - Training Loss\")\n",
    "        plt.xlabel(\"Iterations\")\n",
    "        plt.ylabel(\"Training Loss\")\n",
    "        plt.show()\n",
    "        plt.plot(self.accuracies)\n",
    "        plt.title(f\"{diagnosis_title} - Training Accuracy\")\n",
    "        plt.xlabel(\"Iterations\")\n",
    "        plt.ylabel(\"Training Accuracy (Percent %)\")\n",
    "        plt.show()\n",
    "    \n",
    "    def print_result_after_training(self):\n",
    "        print('Model parameters:')\n",
    "        print('  | Weights: %s' % self.local_model.linear.weight)\n",
    "        print('  | Bias: %s' % self.local_model.linear.bias)\n",
    "        self.plot_graphs()\n",
    "    \n",
    "    def evaluating_model(self):\n",
    "        test_acc = self.compute_accuracy(self.X_test, self.Y_test)\n",
    "        print('[+] Testing Accuracy = {}'.format(self.to_percent(test_acc)))"
   ]
  },
  {
   "cell_type": "markdown",
   "id": "60d0e24f",
   "metadata": {},
   "source": [
    "## Server"
   ]
  },
  {
   "cell_type": "markdown",
   "id": "9586569f",
   "metadata": {},
   "source": [
    "We define some functions to train the machine learning model in a federated way while keeping track of the training loss and the training accuracy, for each hospital separately."
   ]
  },
  {
   "cell_type": "code",
   "execution_count": 45,
   "id": "9eaeed15",
   "metadata": {},
   "outputs": [],
   "source": [
    "clients = [\n",
    "    Client('Hostpital1', 'data/dataset1.csv', \"/enc_weight_client1.txt\", n_features=31, iters=10), \n",
    "    Client('Hostpital2', 'data/dataset2.csv', \"/enc_weight_client2.txt\", n_features=31, iters=10),\n",
    "    Client('Hostpital3', 'data/dataset3.csv', \"/enc_weight_client3.txt\", n_features=31, iters=10),\n",
    "    Client('Hostpital4', 'data/dataset4.csv', \"/enc_weight_client4.txt\", n_features=31, iters=10)\n",
    "]"
   ]
  },
  {
   "cell_type": "markdown",
   "id": "fa622e2b",
   "metadata": {},
   "source": [
    "The whole process is done in a server aggregator, in 1000 iterations (we can vary the number of iterations.) At each iteration."
   ]
  },
  {
   "cell_type": "code",
   "execution_count": 46,
   "id": "25d8335a",
   "metadata": {},
   "outputs": [],
   "source": [
    "iterations = 1000 #2000\n",
    "worker_iterations = 5\n",
    "to_percent = lambda x: '{:.2f}%'.format(x)\n",
    "n_hospitals = len(clients)\n",
    "n_features = 31\n",
    "    \n",
    "def compute_federated_accuracy(model, input, output):\n",
    "    prediction = model(input)\n",
    "    n_samples = prediction.shape[0]\n",
    "    s = 0.\n",
    "    for i in range(n_samples):\n",
    "        p = 1. if prediction[i] >= 0.5 else 0.\n",
    "        e = 1. if p == output[i] else 0.\n",
    "        s += e\n",
    "    return 100. * s / n_samples\n",
    "\n",
    "def federated_learning(clients):\n",
    "    # init global training model\n",
    "    global_model = LogisticRegression(n_features)\n",
    "\n",
    "    # record losses and accuracies report from clients\n",
    "    losses = [[] for i in range(n_hospitals)]\n",
    "    accuracies = [[] for i in range(n_hospitals)]\n",
    "    \n",
    "    pbar = tqdm(range(iterations), desc='Federated Learning Process')\n",
    "    for iteration in pbar:\n",
    "        if iteration:\n",
    "            # copy global model to clients\n",
    "            # clients will receive the weight-aggregated from server, extract\n",
    "            # the ciphertext then decrypt it to get to global_model's weights\n",
    "            for i in range(n_hospitals):\n",
    "                clients[i].decrypted_model_params()\n",
    "        \n",
    "        # perform local training for each clients then report acc and loss to server\n",
    "        for i in range(n_hospitals):\n",
    "            clients[i].local_training(debug=False)\n",
    "            \n",
    "            # report to server\n",
    "            losses[i].append(clients[i].losses[-1])\n",
    "            accuracies[i].append(clients[i].accuracies[-1])\n",
    "        \n",
    "        # clients encrypt the final weights of local model after training\n",
    "        for i in range(n_hospitals):\n",
    "            clients[i].encrypted_model_params()\n",
    "        \n",
    "        # server collect clients's encrypted weights then perform weight-aggregation\n",
    "        # by using homomorphic operation\n",
    "        with torch.no_grad():\n",
    "            # avg_weight = sum([clients[i].local_model.linear.weight.data for i in range(n_hospitals)]) / n_hospitals\n",
    "            # global_model.linear.weight = nn.Parameter(avg_weight)\n",
    "            # avg_bias = sum([clients[i].local_model.linear.bias.data for i in range(n_hospitals)]) / n_hospitals\n",
    "            # global_model.linear.bias = nn.Parameter(avg_bias)\n",
    "            aggregator()\n",
    "    \n",
    "        # logging\n",
    "        if (iteration + 1) % 100 == 0:\n",
    "            losses_str = ['{:.4f}'.format(losses[i][-1]) for i in range(n_hospitals)]\n",
    "            accuracies_str = [to_percent(accuracies[i][-1]) for i in range(n_hospitals)]\n",
    "            print('[LOG] Epoch = {0:04d}\\n> Losses = {1}\\n> Accuracies = {2}'.format(iteration + 1, losses_str, accuracies_str))\n",
    "        \n",
    "    return losses, accuracies"
   ]
  },
  {
   "cell_type": "code",
   "execution_count": 47,
   "id": "4cb88a05",
   "metadata": {
    "scrolled": true
   },
   "outputs": [
    {
     "name": "stderr",
     "output_type": "stream",
     "text": [
      "\n",
      "\n",
      "Federated Learning Process:   0%|          | 0/1000 [00:00<?, ?it/s]\n"
     ]
    },
    {
     "ename": "OSError",
     "evalue": "[WinError 193] %1 is not a valid Win32 application",
     "output_type": "error",
     "traceback": [
      "\u001b[1;31m---------------------------------------------------------------------------\u001b[0m",
      "\u001b[1;31mOSError\u001b[0m                                   Traceback (most recent call last)",
      "Cell \u001b[1;32mIn[47], line 1\u001b[0m\n\u001b[1;32m----> 1\u001b[0m losses, accuracies \u001b[39m=\u001b[39m federated_learning(clients)\n",
      "Cell \u001b[1;32mIn[46], line 44\u001b[0m, in \u001b[0;36mfederated_learning\u001b[1;34m(clients)\u001b[0m\n\u001b[0;32m     42\u001b[0m \u001b[39m# clients encrypt the final weights of local model after training\u001b[39;00m\n\u001b[0;32m     43\u001b[0m \u001b[39mfor\u001b[39;00m i \u001b[39min\u001b[39;00m \u001b[39mrange\u001b[39m(n_hospitals):\n\u001b[1;32m---> 44\u001b[0m     clients[i]\u001b[39m.\u001b[39;49mencrypted_model_params()\n\u001b[0;32m     46\u001b[0m \u001b[39m# server collect clients's encrypted weights then perform weight-aggregation\u001b[39;00m\n\u001b[0;32m     47\u001b[0m \u001b[39m# by using homomorphic operation\u001b[39;00m\n\u001b[0;32m     48\u001b[0m \u001b[39mwith\u001b[39;00m torch\u001b[39m.\u001b[39mno_grad():\n\u001b[0;32m     49\u001b[0m     \u001b[39m# avg_weight = sum([clients[i].local_model.linear.weight.data for i in range(n_hospitals)]) / n_hospitals\u001b[39;00m\n\u001b[0;32m     50\u001b[0m     \u001b[39m# global_model.linear.weight = nn.Parameter(avg_weight)\u001b[39;00m\n\u001b[0;32m     51\u001b[0m     \u001b[39m# avg_bias = sum([clients[i].local_model.linear.bias.data for i in range(n_hospitals)]) / n_hospitals\u001b[39;00m\n\u001b[0;32m     52\u001b[0m     \u001b[39m# global_model.linear.bias = nn.Parameter(avg_bias)\u001b[39;00m\n",
      "Cell \u001b[1;32mIn[44], line 80\u001b[0m, in \u001b[0;36mClient.encrypted_model_params\u001b[1;34m(self)\u001b[0m\n\u001b[0;32m     77\u001b[0m model_bias    \u001b[39m=\u001b[39m \u001b[39mself\u001b[39m\u001b[39m.\u001b[39mlocal_model\u001b[39m.\u001b[39mlinear\u001b[39m.\u001b[39mbias\u001b[39m.\u001b[39mdata\u001b[39m.\u001b[39msqueeze()\u001b[39m.\u001b[39mtolist()\n\u001b[0;32m     79\u001b[0m model_params  \u001b[39m=\u001b[39m model_weights \u001b[39m+\u001b[39m [model_bias]\n\u001b[1;32m---> 80\u001b[0m encrypt_weights(model_params, \u001b[39mself\u001b[39;49m\u001b[39m.\u001b[39;49menc_file)\n",
      "File \u001b[1;32mc:\\Users\\ayoub\\OneDrive\\Bureau\\ahlemfederated\\homorphicencryption\\fedratedd\\fedlearning\\openfhe_lib\\ckks\\openFHE.py:22\u001b[0m, in \u001b[0;36mencrypt_weights\u001b[1;34m(weights, output_filename)\u001b[0m\n\u001b[0;32m     17\u001b[0m \u001b[39mdef\u001b[39;00m \u001b[39mencrypt_weights\u001b[39m(weights, output_filename):\n\u001b[0;32m     18\u001b[0m \u001b[39m    \u001b[39m\u001b[39m\"\"\" This function will be used by clients to encrypt local model's weights and send its to server.\u001b[39;00m\n\u001b[0;32m     19\u001b[0m \u001b[39m        - weights         : vector of model's weights (float numbers)\u001b[39;00m\n\u001b[0;32m     20\u001b[0m \u001b[39m        - output_filename : store the output of encrypted_weights (as `Ciphertext<DCRTPoly>` object) to `output_filename`.\u001b[39;00m\n\u001b[0;32m     21\u001b[0m \u001b[39m    \"\"\"\u001b[39;00m\n\u001b[1;32m---> 22\u001b[0m     subprocess\u001b[39m.\u001b[39;49mrun([\u001b[39mf\u001b[39;49m\u001b[39m\"\u001b[39;49m\u001b[39m{\u001b[39;49;00mcwd\u001b[39m}\u001b[39;49;00m\u001b[39m/build/client\u001b[39;49m\u001b[39m\"\u001b[39;49m, output_filename, \u001b[39m\"\u001b[39;49m\u001b[39m@\u001b[39;49m\u001b[39m\"\u001b[39;49m\u001b[39m.\u001b[39;49mjoin([\u001b[39mstr\u001b[39;49m(w) \u001b[39mfor\u001b[39;49;00m w \u001b[39min\u001b[39;49;00m weights])])\n",
      "File \u001b[1;32m~\\AppData\\Local\\Programs\\Python\\Python311\\Lib\\subprocess.py:548\u001b[0m, in \u001b[0;36mrun\u001b[1;34m(input, capture_output, timeout, check, *popenargs, **kwargs)\u001b[0m\n\u001b[0;32m    545\u001b[0m     kwargs[\u001b[39m'\u001b[39m\u001b[39mstdout\u001b[39m\u001b[39m'\u001b[39m] \u001b[39m=\u001b[39m PIPE\n\u001b[0;32m    546\u001b[0m     kwargs[\u001b[39m'\u001b[39m\u001b[39mstderr\u001b[39m\u001b[39m'\u001b[39m] \u001b[39m=\u001b[39m PIPE\n\u001b[1;32m--> 548\u001b[0m \u001b[39mwith\u001b[39;00m Popen(\u001b[39m*\u001b[39;49mpopenargs, \u001b[39m*\u001b[39;49m\u001b[39m*\u001b[39;49mkwargs) \u001b[39mas\u001b[39;00m process:\n\u001b[0;32m    549\u001b[0m     \u001b[39mtry\u001b[39;00m:\n\u001b[0;32m    550\u001b[0m         stdout, stderr \u001b[39m=\u001b[39m process\u001b[39m.\u001b[39mcommunicate(\u001b[39minput\u001b[39m, timeout\u001b[39m=\u001b[39mtimeout)\n",
      "File \u001b[1;32m~\\AppData\\Local\\Programs\\Python\\Python311\\Lib\\subprocess.py:1024\u001b[0m, in \u001b[0;36mPopen.__init__\u001b[1;34m(self, args, bufsize, executable, stdin, stdout, stderr, preexec_fn, close_fds, shell, cwd, env, universal_newlines, startupinfo, creationflags, restore_signals, start_new_session, pass_fds, user, group, extra_groups, encoding, errors, text, umask, pipesize, process_group)\u001b[0m\n\u001b[0;32m   1020\u001b[0m         \u001b[39mif\u001b[39;00m \u001b[39mself\u001b[39m\u001b[39m.\u001b[39mtext_mode:\n\u001b[0;32m   1021\u001b[0m             \u001b[39mself\u001b[39m\u001b[39m.\u001b[39mstderr \u001b[39m=\u001b[39m io\u001b[39m.\u001b[39mTextIOWrapper(\u001b[39mself\u001b[39m\u001b[39m.\u001b[39mstderr,\n\u001b[0;32m   1022\u001b[0m                     encoding\u001b[39m=\u001b[39mencoding, errors\u001b[39m=\u001b[39merrors)\n\u001b[1;32m-> 1024\u001b[0m     \u001b[39mself\u001b[39;49m\u001b[39m.\u001b[39;49m_execute_child(args, executable, preexec_fn, close_fds,\n\u001b[0;32m   1025\u001b[0m                         pass_fds, cwd, env,\n\u001b[0;32m   1026\u001b[0m                         startupinfo, creationflags, shell,\n\u001b[0;32m   1027\u001b[0m                         p2cread, p2cwrite,\n\u001b[0;32m   1028\u001b[0m                         c2pread, c2pwrite,\n\u001b[0;32m   1029\u001b[0m                         errread, errwrite,\n\u001b[0;32m   1030\u001b[0m                         restore_signals,\n\u001b[0;32m   1031\u001b[0m                         gid, gids, uid, umask,\n\u001b[0;32m   1032\u001b[0m                         start_new_session, process_group)\n\u001b[0;32m   1033\u001b[0m \u001b[39mexcept\u001b[39;00m:\n\u001b[0;32m   1034\u001b[0m     \u001b[39m# Cleanup if the child failed starting.\u001b[39;00m\n\u001b[0;32m   1035\u001b[0m     \u001b[39mfor\u001b[39;00m f \u001b[39min\u001b[39;00m \u001b[39mfilter\u001b[39m(\u001b[39mNone\u001b[39;00m, (\u001b[39mself\u001b[39m\u001b[39m.\u001b[39mstdin, \u001b[39mself\u001b[39m\u001b[39m.\u001b[39mstdout, \u001b[39mself\u001b[39m\u001b[39m.\u001b[39mstderr)):\n",
      "File \u001b[1;32m~\\AppData\\Local\\Programs\\Python\\Python311\\Lib\\subprocess.py:1493\u001b[0m, in \u001b[0;36mPopen._execute_child\u001b[1;34m(self, args, executable, preexec_fn, close_fds, pass_fds, cwd, env, startupinfo, creationflags, shell, p2cread, p2cwrite, c2pread, c2pwrite, errread, errwrite, unused_restore_signals, unused_gid, unused_gids, unused_uid, unused_umask, unused_start_new_session, unused_process_group)\u001b[0m\n\u001b[0;32m   1491\u001b[0m \u001b[39m# Start the process\u001b[39;00m\n\u001b[0;32m   1492\u001b[0m \u001b[39mtry\u001b[39;00m:\n\u001b[1;32m-> 1493\u001b[0m     hp, ht, pid, tid \u001b[39m=\u001b[39m _winapi\u001b[39m.\u001b[39;49mCreateProcess(executable, args,\n\u001b[0;32m   1494\u001b[0m                              \u001b[39m# no special security\u001b[39;49;00m\n\u001b[0;32m   1495\u001b[0m                              \u001b[39mNone\u001b[39;49;00m, \u001b[39mNone\u001b[39;49;00m,\n\u001b[0;32m   1496\u001b[0m                              \u001b[39mint\u001b[39;49m(\u001b[39mnot\u001b[39;49;00m close_fds),\n\u001b[0;32m   1497\u001b[0m                              creationflags,\n\u001b[0;32m   1498\u001b[0m                              env,\n\u001b[0;32m   1499\u001b[0m                              cwd,\n\u001b[0;32m   1500\u001b[0m                              startupinfo)\n\u001b[0;32m   1501\u001b[0m \u001b[39mfinally\u001b[39;00m:\n\u001b[0;32m   1502\u001b[0m     \u001b[39m# Child is launched. Close the parent's copy of those pipe\u001b[39;00m\n\u001b[0;32m   1503\u001b[0m     \u001b[39m# handles that only the child should have open.  You need\u001b[39;00m\n\u001b[1;32m   (...)\u001b[0m\n\u001b[0;32m   1506\u001b[0m     \u001b[39m# pipe will not close when the child process exits and the\u001b[39;00m\n\u001b[0;32m   1507\u001b[0m     \u001b[39m# ReadFile will hang.\u001b[39;00m\n\u001b[0;32m   1508\u001b[0m     \u001b[39mself\u001b[39m\u001b[39m.\u001b[39m_close_pipe_fds(p2cread, p2cwrite,\n\u001b[0;32m   1509\u001b[0m                          c2pread, c2pwrite,\n\u001b[0;32m   1510\u001b[0m                          errread, errwrite)\n",
      "\u001b[1;31mOSError\u001b[0m: [WinError 193] %1 is not a valid Win32 application"
     ]
    }
   ],
   "source": [
    "losses, accuracies = federated_learning(clients)"
   ]
  },
  {
   "cell_type": "markdown",
   "id": "774719fe",
   "metadata": {},
   "source": [
    "### Virtualize record of training process"
   ]
  },
  {
   "cell_type": "code",
   "execution_count": 48,
   "id": "b594544e",
   "metadata": {},
   "outputs": [
    {
     "ename": "NameError",
     "evalue": "name 'losses' is not defined",
     "output_type": "error",
     "traceback": [
      "\u001b[1;31m---------------------------------------------------------------------------\u001b[0m",
      "\u001b[1;31mNameError\u001b[0m                                 Traceback (most recent call last)",
      "Cell \u001b[1;32mIn[48], line 17\u001b[0m\n\u001b[0;32m     14\u001b[0m     plt\u001b[39m.\u001b[39mylabel(\u001b[39m\"\u001b[39m\u001b[39mTraining Accuracy (Percent \u001b[39m\u001b[39m%\u001b[39m\u001b[39m)\u001b[39m\u001b[39m\"\u001b[39m)\n\u001b[0;32m     15\u001b[0m     plt\u001b[39m.\u001b[39mshow()\n\u001b[1;32m---> 17\u001b[0m plot_federated_graphs(\u001b[39m'\u001b[39m\u001b[39mBreast cancer\u001b[39m\u001b[39m'\u001b[39m, losses, accuracies)\n",
      "\u001b[1;31mNameError\u001b[0m: name 'losses' is not defined"
     ]
    }
   ],
   "source": [
    "def plot_federated_graphs(diagnosis_title, losses, accuracies):\n",
    "    for i in range(n_hospitals):\n",
    "        plt.plot(losses[i], label=f'Hospital {i+1}')\n",
    "    legend = plt.legend(loc='upper right', shadow=True)\n",
    "    plt.title(f\"{diagnosis_title} - Training Loss\")\n",
    "    plt.xlabel(\"Iterations\")\n",
    "    plt.ylabel(\"Training Loss\")\n",
    "    plt.show()\n",
    "    for i in range(n_hospitals):\n",
    "        plt.plot(accuracies[i], label=f'Hospital {i+1}')\n",
    "    legend = plt.legend(loc='lower right', shadow=True)\n",
    "    plt.title(f\"{diagnosis_title} - Training Accuracy\")\n",
    "    plt.xlabel(\"Iterations\")\n",
    "    plt.ylabel(\"Training Accuracy (Percent %)\")\n",
    "    plt.show()\n",
    "\n",
    "plot_federated_graphs('Breast cancer', losses, accuracies)"
   ]
  },
  {
   "cell_type": "markdown",
   "id": "1407c111",
   "metadata": {},
   "source": [
    "### Model parameters after training proccess"
   ]
  },
  {
   "cell_type": "code",
   "execution_count": 49,
   "id": "59337487",
   "metadata": {},
   "outputs": [
    {
     "ename": "OSError",
     "evalue": "[WinError 193] %1 is not a valid Win32 application",
     "output_type": "error",
     "traceback": [
      "\u001b[1;31m---------------------------------------------------------------------------\u001b[0m",
      "\u001b[1;31mOSError\u001b[0m                                   Traceback (most recent call last)",
      "Cell \u001b[1;32mIn[49], line 1\u001b[0m\n\u001b[1;32m----> 1\u001b[0m clients[\u001b[39m0\u001b[39;49m]\u001b[39m.\u001b[39;49mdecrypted_model_params()\n\u001b[0;32m      2\u001b[0m global_model \u001b[39m=\u001b[39m clients[\u001b[39m0\u001b[39m]\u001b[39m.\u001b[39mlocal_model\n\u001b[0;32m      4\u001b[0m \u001b[39mprint\u001b[39m(\u001b[39m'\u001b[39m\u001b[39m\\n\u001b[39;00m\u001b[39mModel parameters:\u001b[39m\u001b[39m'\u001b[39m)\n",
      "Cell \u001b[1;32mIn[44], line 83\u001b[0m, in \u001b[0;36mClient.decrypted_model_params\u001b[1;34m(self)\u001b[0m\n\u001b[0;32m     82\u001b[0m \u001b[39mdef\u001b[39;00m \u001b[39mdecrypted_model_params\u001b[39m(\u001b[39mself\u001b[39m):\n\u001b[1;32m---> 83\u001b[0m     params \u001b[39m=\u001b[39m decrypt_weights(\u001b[39m\"\u001b[39;49m\u001b[39m/enc_aggregator_weight_server.txt\u001b[39;49m\u001b[39m\"\u001b[39;49m)\n\u001b[0;32m     84\u001b[0m     \u001b[39m# convert float to tensor context\u001b[39;00m\n\u001b[0;32m     85\u001b[0m     W \u001b[39m=\u001b[39m Variable(torch\u001b[39m.\u001b[39mtensor([params[:\u001b[39m-\u001b[39m\u001b[39m1\u001b[39m]], dtype \u001b[39m=\u001b[39m torch\u001b[39m.\u001b[39mfloat32))\n",
      "File \u001b[1;32mc:\\Users\\ayoub\\OneDrive\\Bureau\\ahlemfederated\\homorphicencryption\\fedratedd\\fedlearning\\openfhe_lib\\ckks\\openFHE.py:29\u001b[0m, in \u001b[0;36mdecrypt_weights\u001b[1;34m(cipher_file)\u001b[0m\n\u001b[0;32m     24\u001b[0m \u001b[39mdef\u001b[39;00m \u001b[39mdecrypt_weights\u001b[39m(cipher_file) \u001b[39m-\u001b[39m\u001b[39m>\u001b[39m \u001b[39mlist\u001b[39m[\u001b[39mfloat\u001b[39m]:\n\u001b[0;32m     25\u001b[0m \u001b[39m    \u001b[39m\u001b[39m\"\"\" This function will be used by clients to decrypt aggregated global model's weights.\u001b[39;00m\n\u001b[0;32m     26\u001b[0m \u001b[39m        - cipher_file     : contain aggregated_weights compute using homomorphic operations by server\u001b[39;00m\n\u001b[0;32m     27\u001b[0m \u001b[39m    \"\"\"\u001b[39;00m\n\u001b[1;32m---> 29\u001b[0m     stdout \u001b[39m=\u001b[39m subprocess\u001b[39m.\u001b[39;49mrun([\u001b[39mf\u001b[39;49m\u001b[39m\"\u001b[39;49m\u001b[39m{\u001b[39;49;00mcwd\u001b[39m}\u001b[39;49;00m\u001b[39m/build/client\u001b[39;49m\u001b[39m\"\u001b[39;49m, cipher_file], capture_output\u001b[39m=\u001b[39;49m\u001b[39mTrue\u001b[39;49;00m)\u001b[39m.\u001b[39mstdout\u001b[39m.\u001b[39mdecode()\n\u001b[0;32m     30\u001b[0m     \u001b[39mreturn\u001b[39;00m [\u001b[39mfloat\u001b[39m(w) \u001b[39mfor\u001b[39;00m w \u001b[39min\u001b[39;00m stdout\u001b[39m.\u001b[39msplit(\u001b[39m\"\u001b[39m\u001b[39m@\u001b[39m\u001b[39m\"\u001b[39m)]\n",
      "File \u001b[1;32m~\\AppData\\Local\\Programs\\Python\\Python311\\Lib\\subprocess.py:548\u001b[0m, in \u001b[0;36mrun\u001b[1;34m(input, capture_output, timeout, check, *popenargs, **kwargs)\u001b[0m\n\u001b[0;32m    545\u001b[0m     kwargs[\u001b[39m'\u001b[39m\u001b[39mstdout\u001b[39m\u001b[39m'\u001b[39m] \u001b[39m=\u001b[39m PIPE\n\u001b[0;32m    546\u001b[0m     kwargs[\u001b[39m'\u001b[39m\u001b[39mstderr\u001b[39m\u001b[39m'\u001b[39m] \u001b[39m=\u001b[39m PIPE\n\u001b[1;32m--> 548\u001b[0m \u001b[39mwith\u001b[39;00m Popen(\u001b[39m*\u001b[39;49mpopenargs, \u001b[39m*\u001b[39;49m\u001b[39m*\u001b[39;49mkwargs) \u001b[39mas\u001b[39;00m process:\n\u001b[0;32m    549\u001b[0m     \u001b[39mtry\u001b[39;00m:\n\u001b[0;32m    550\u001b[0m         stdout, stderr \u001b[39m=\u001b[39m process\u001b[39m.\u001b[39mcommunicate(\u001b[39minput\u001b[39m, timeout\u001b[39m=\u001b[39mtimeout)\n",
      "File \u001b[1;32m~\\AppData\\Local\\Programs\\Python\\Python311\\Lib\\subprocess.py:1024\u001b[0m, in \u001b[0;36mPopen.__init__\u001b[1;34m(self, args, bufsize, executable, stdin, stdout, stderr, preexec_fn, close_fds, shell, cwd, env, universal_newlines, startupinfo, creationflags, restore_signals, start_new_session, pass_fds, user, group, extra_groups, encoding, errors, text, umask, pipesize, process_group)\u001b[0m\n\u001b[0;32m   1020\u001b[0m         \u001b[39mif\u001b[39;00m \u001b[39mself\u001b[39m\u001b[39m.\u001b[39mtext_mode:\n\u001b[0;32m   1021\u001b[0m             \u001b[39mself\u001b[39m\u001b[39m.\u001b[39mstderr \u001b[39m=\u001b[39m io\u001b[39m.\u001b[39mTextIOWrapper(\u001b[39mself\u001b[39m\u001b[39m.\u001b[39mstderr,\n\u001b[0;32m   1022\u001b[0m                     encoding\u001b[39m=\u001b[39mencoding, errors\u001b[39m=\u001b[39merrors)\n\u001b[1;32m-> 1024\u001b[0m     \u001b[39mself\u001b[39;49m\u001b[39m.\u001b[39;49m_execute_child(args, executable, preexec_fn, close_fds,\n\u001b[0;32m   1025\u001b[0m                         pass_fds, cwd, env,\n\u001b[0;32m   1026\u001b[0m                         startupinfo, creationflags, shell,\n\u001b[0;32m   1027\u001b[0m                         p2cread, p2cwrite,\n\u001b[0;32m   1028\u001b[0m                         c2pread, c2pwrite,\n\u001b[0;32m   1029\u001b[0m                         errread, errwrite,\n\u001b[0;32m   1030\u001b[0m                         restore_signals,\n\u001b[0;32m   1031\u001b[0m                         gid, gids, uid, umask,\n\u001b[0;32m   1032\u001b[0m                         start_new_session, process_group)\n\u001b[0;32m   1033\u001b[0m \u001b[39mexcept\u001b[39;00m:\n\u001b[0;32m   1034\u001b[0m     \u001b[39m# Cleanup if the child failed starting.\u001b[39;00m\n\u001b[0;32m   1035\u001b[0m     \u001b[39mfor\u001b[39;00m f \u001b[39min\u001b[39;00m \u001b[39mfilter\u001b[39m(\u001b[39mNone\u001b[39;00m, (\u001b[39mself\u001b[39m\u001b[39m.\u001b[39mstdin, \u001b[39mself\u001b[39m\u001b[39m.\u001b[39mstdout, \u001b[39mself\u001b[39m\u001b[39m.\u001b[39mstderr)):\n",
      "File \u001b[1;32m~\\AppData\\Local\\Programs\\Python\\Python311\\Lib\\subprocess.py:1493\u001b[0m, in \u001b[0;36mPopen._execute_child\u001b[1;34m(self, args, executable, preexec_fn, close_fds, pass_fds, cwd, env, startupinfo, creationflags, shell, p2cread, p2cwrite, c2pread, c2pwrite, errread, errwrite, unused_restore_signals, unused_gid, unused_gids, unused_uid, unused_umask, unused_start_new_session, unused_process_group)\u001b[0m\n\u001b[0;32m   1491\u001b[0m \u001b[39m# Start the process\u001b[39;00m\n\u001b[0;32m   1492\u001b[0m \u001b[39mtry\u001b[39;00m:\n\u001b[1;32m-> 1493\u001b[0m     hp, ht, pid, tid \u001b[39m=\u001b[39m _winapi\u001b[39m.\u001b[39;49mCreateProcess(executable, args,\n\u001b[0;32m   1494\u001b[0m                              \u001b[39m# no special security\u001b[39;49;00m\n\u001b[0;32m   1495\u001b[0m                              \u001b[39mNone\u001b[39;49;00m, \u001b[39mNone\u001b[39;49;00m,\n\u001b[0;32m   1496\u001b[0m                              \u001b[39mint\u001b[39;49m(\u001b[39mnot\u001b[39;49;00m close_fds),\n\u001b[0;32m   1497\u001b[0m                              creationflags,\n\u001b[0;32m   1498\u001b[0m                              env,\n\u001b[0;32m   1499\u001b[0m                              cwd,\n\u001b[0;32m   1500\u001b[0m                              startupinfo)\n\u001b[0;32m   1501\u001b[0m \u001b[39mfinally\u001b[39;00m:\n\u001b[0;32m   1502\u001b[0m     \u001b[39m# Child is launched. Close the parent's copy of those pipe\u001b[39;00m\n\u001b[0;32m   1503\u001b[0m     \u001b[39m# handles that only the child should have open.  You need\u001b[39;00m\n\u001b[1;32m   (...)\u001b[0m\n\u001b[0;32m   1506\u001b[0m     \u001b[39m# pipe will not close when the child process exits and the\u001b[39;00m\n\u001b[0;32m   1507\u001b[0m     \u001b[39m# ReadFile will hang.\u001b[39;00m\n\u001b[0;32m   1508\u001b[0m     \u001b[39mself\u001b[39m\u001b[39m.\u001b[39m_close_pipe_fds(p2cread, p2cwrite,\n\u001b[0;32m   1509\u001b[0m                          c2pread, c2pwrite,\n\u001b[0;32m   1510\u001b[0m                          errread, errwrite)\n",
      "\u001b[1;31mOSError\u001b[0m: [WinError 193] %1 is not a valid Win32 application"
     ]
    }
   ],
   "source": [
    "clients[0].decrypted_model_params()\n",
    "global_model = clients[0].local_model\n",
    "\n",
    "print('\\nModel parameters:')\n",
    "print('  | Weights: %s' % global_model.linear.weight) ### Virtualize record of training processlobal_model.linear.weight)\n",
    "print('  | Bias: %s' % global_model.linear.bias)"
   ]
  },
  {
   "cell_type": "markdown",
   "id": "e85d5ece",
   "metadata": {},
   "source": [
    "### Evaluating the Model"
   ]
  },
  {
   "cell_type": "code",
   "execution_count": 32,
   "id": "e4520ce3",
   "metadata": {},
   "outputs": [
    {
     "name": "stdout",
     "output_type": "stream",
     "text": [
      "\n",
      "Testing Accuracy = 85.71%\n"
     ]
    }
   ],
   "source": [
    "# prepare data for testing model\n",
    "df_test = pd.read_csv('data/test.csv')\n",
    "df_test[\"diagnostic\"] = (df_test[\"diagnostic\"] == \"M\").astype(int)\n",
    "test , X_test , Y_test  = scale_dataset(df_test , False)\n",
    "\n",
    "test_acc = compute_federated_accuracy(global_model, X_test, Y_test)\n",
    "print('\\nTesting Accuracy = {}'.format(to_percent(test_acc)))"
   ]
  },
  {
   "cell_type": "markdown",
   "id": "e7328053",
   "metadata": {},
   "source": [
    "## Thanks for reading!\n",
    "I hope you have enjoyed the explanations of this machine learning system with federated learning."
   ]
  },
  {
   "cell_type": "markdown",
   "id": "2312754b",
   "metadata": {},
   "source": [
    "### References\n",
    "\n",
    "- [1] Wibawa, F., Catak, F. O., Kuzlu, M., Sarp, S., & Cali, U. (2022, June). Homomorphic encryption and federated learning based privacy-preserving cnn training: Covid-19 detection use-case. In Proceedings of the 2022 European Interdisciplinary Cybersecurity Conference (pp. 85-90).​\n",
    "\n",
    "- [2] Al Badawi, A., Bates, J., Bergamaschi, F., Cousins, D. B., Erabelli, S., Genise, N., ... & Zucca, V. (2022, November). OpenFHE: Open-source fully homomorphic encryption library. In Proceedings of the 10th Workshop on Encrypted Computing & Applied Homomorphic Cryptography (pp. 53-63)."
   ]
  }
 ],
 "metadata": {
  "kernelspec": {
   "display_name": "Python 3 (ipykernel)",
   "language": "python",
   "name": "python3"
  },
  "language_info": {
   "codemirror_mode": {
    "name": "ipython",
    "version": 3
   },
   "file_extension": ".py",
   "mimetype": "text/x-python",
   "name": "python",
   "nbconvert_exporter": "python",
   "pygments_lexer": "ipython3",
   "version": "3.11.2"
  }
 },
 "nbformat": 4,
 "nbformat_minor": 5
}
